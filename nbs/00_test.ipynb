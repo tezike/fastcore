{
 "cells": [
  {
   "cell_type": "code",
   "execution_count": 1,
   "metadata": {},
   "outputs": [],
   "source": [
    "#default_exp test"
   ]
  },
  {
   "cell_type": "code",
   "execution_count": 2,
   "metadata": {},
   "outputs": [],
   "source": [
    "#export\n",
    "from fastcore.imports import *"
   ]
  },
  {
   "cell_type": "code",
   "execution_count": 3,
   "metadata": {},
   "outputs": [],
   "source": [
    "from nbdev.showdoc import *\n",
    "from PIL import Image #only needed for tests"
   ]
  },
  {
   "cell_type": "markdown",
   "metadata": {},
   "source": [
    "# Test\n",
    "\n",
    "> Helper functions to quickly write tests in notebooks"
   ]
  },
  {
   "cell_type": "markdown",
   "metadata": {},
   "source": [
    "## Simple test functions"
   ]
  },
  {
   "cell_type": "markdown",
   "metadata": {},
   "source": [
    "We can check that code raises an exception when that's expected (`test_fail`). To test for equality or inequality (with different types of things) we define a simple function `test` that compares two object with a given `cmp` operator."
   ]
  },
  {
   "cell_type": "markdown",
   "metadata": {},
   "source": [
    "Tendo: `test_fail` is used to ensure that a test fails with a message in the `msg` arg or the arg `contains` is contained in the exception the failing test(`test_fail`) returns"
   ]
  },
  {
   "cell_type": "code",
   "execution_count": 4,
   "metadata": {},
   "outputs": [],
   "source": [
    "#export\n",
    "def test_fail(f, msg='', contains=''):\n",
    "    \"Fails with `msg` unless `f()` raises an exception and (optionally) has `contains` in `e.args`\"\n",
    "    try: f() # run the func\n",
    "    except Exception as e: # if an Exception from f()\n",
    "        assert not contains or contains in str(e) #check if the Exception contains `contains`\n",
    "        return\n",
    "    assert False,f\"Expected exception but none raised. {msg}\" # if it doesn't raise an 2 Exceptions"
   ]
  },
  {
   "cell_type": "code",
   "execution_count": 5,
   "metadata": {},
   "outputs": [
    {
     "ename": "AssertionError",
     "evalue": "",
     "output_type": "error",
     "traceback": [
      "\u001b[0;31m---------------------------------------------------------------------------\u001b[0m",
      "\u001b[0;31mAssertionError\u001b[0m                            Traceback (most recent call last)",
      "\u001b[0;32m<ipython-input-5-a871fdc9ebee>\u001b[0m in \u001b[0;36m<module>\u001b[0;34m()\u001b[0m\n\u001b[0;32m----> 1\u001b[0;31m \u001b[0;32massert\u001b[0m \u001b[0;32mFalse\u001b[0m\u001b[0;34m\u001b[0m\u001b[0;34m\u001b[0m\u001b[0m\n\u001b[0m",
      "\u001b[0;31mAssertionError\u001b[0m: "
     ]
    }
   ],
   "source": [
    "assert False"
   ]
  },
  {
   "cell_type": "code",
   "execution_count": 6,
   "metadata": {},
   "outputs": [],
   "source": [
    "def _fail(): raise Exception(\"foobar\")\n",
    "# def _fail(): pass # this removes the exception from the f() which should lead to a test fail\n",
    "test_fail(_fail, contains=\"foo\")\n",
    "# test_fail(_fail, msg='Hello there', contains=\"foo\") #run this to fail the f() returns an Exception Test\n",
    "\n",
    "def _fail(): raise Exception()\n",
    "test_fail(_fail) # no exception text is raised from the func"
   ]
  },
  {
   "cell_type": "markdown",
   "metadata": {},
   "source": [
    "Tendo: Test to see if a condition `cmp` with a name `cname` applies on a and b"
   ]
  },
  {
   "cell_type": "code",
   "execution_count": 7,
   "metadata": {},
   "outputs": [],
   "source": [
    "#export\n",
    "def test(a, b, cmp,cname=None):\n",
    "    \"`assert` that `cmp(a,b)`; display inputs and `cname or cmp.__name__` if it fails\"\n",
    "    if cname is None: cname=cmp.__name__ #get the name of the test being checked\n",
    "    assert cmp(a,b),f\"{cname}:\\n{a}\\n{b}\" # if the check fails raise an Assertion exception in the form shown"
   ]
  },
  {
   "cell_type": "code",
   "execution_count": 8,
   "metadata": {},
   "outputs": [
    {
     "data": {
      "text/plain": [
       "(True, 'eq')"
      ]
     },
     "execution_count": 8,
     "metadata": {},
     "output_type": "execute_result"
    }
   ],
   "source": [
    "# run to show example\n",
    "operator.eq([1,2],[1,2]), operator.eq.__name__"
   ]
  },
  {
   "cell_type": "code",
   "execution_count": 9,
   "metadata": {},
   "outputs": [],
   "source": [
    "# run to show example\n",
    "# x = lambda: test([1,2],[1], operator.eq)\n",
    "# x()"
   ]
  },
  {
   "cell_type": "code",
   "execution_count": 10,
   "metadata": {},
   "outputs": [],
   "source": [
    "test([1,2],[1,2], operator.eq) # check for equality\n",
    "test_fail(lambda: test([1,2],[1], operator.eq)) #the test is run as `f()` in `test_fail`\n",
    "test([1,2],[1],   operator.ne) #check for non-equality\n",
    "test_fail(lambda: test([1,2],[1,2], operator.ne)) "
   ]
  },
  {
   "cell_type": "markdown",
   "metadata": {},
   "source": [
    "`show_doc` is from project `nbdev`. It can be used to see the documentation of any python object"
   ]
  },
  {
   "cell_type": "code",
   "execution_count": 11,
   "metadata": {},
   "outputs": [
    {
     "data": {
      "text/markdown": [
       "<h4 id=\"all_equal\" class=\"doc_header\"><code>all_equal</code><a href=\"https://github.com/fastai/fastcore/tree/master/fastcore/imports.py#L47\" class=\"source_link\" style=\"float:right\">[source]</a></h4>\n",
       "\n",
       "> <code>all_equal</code>(**`a`**, **`b`**)\n",
       "\n",
       "Compares whether `a` and `b` are the same length and have the same contents"
      ],
      "text/plain": [
       "<IPython.core.display.Markdown object>"
      ]
     },
     "metadata": {},
     "output_type": "display_data"
    }
   ],
   "source": [
    "show_doc(all_equal)"
   ]
  },
  {
   "cell_type": "code",
   "execution_count": 12,
   "metadata": {},
   "outputs": [
    {
     "data": {
      "text/plain": [
       "True"
      ]
     },
     "execution_count": 12,
     "metadata": {},
     "output_type": "execute_result"
    }
   ],
   "source": [
    "all_equal(['abc'], ['abc'])"
   ]
  },
  {
   "cell_type": "code",
   "execution_count": 13,
   "metadata": {},
   "outputs": [],
   "source": [
    "test(['abc'], ['abc'],  all_equal) #tests to make sure all the items in both lists are equal"
   ]
  },
  {
   "cell_type": "code",
   "execution_count": 14,
   "metadata": {},
   "outputs": [
    {
     "ename": "SyntaxError",
     "evalue": "invalid syntax (<ipython-input-14-347818415fdf>, line 1)",
     "output_type": "error",
     "traceback": [
      "\u001b[0;36m  File \u001b[0;32m\"<ipython-input-14-347818415fdf>\"\u001b[0;36m, line \u001b[0;32m1\u001b[0m\n\u001b[0;31m    operator.ne([1,2],[4,4])dd\u001b[0m\n\u001b[0m                             ^\u001b[0m\n\u001b[0;31mSyntaxError\u001b[0m\u001b[0;31m:\u001b[0m invalid syntax\n"
     ]
    }
   ],
   "source": [
    "operator.ne([1,2],[4,4])dd"
   ]
  },
  {
   "cell_type": "code",
   "execution_count": 15,
   "metadata": {},
   "outputs": [
    {
     "data": {
      "text/markdown": [
       "<h4 id=\"equals\" class=\"doc_header\"><code>equals</code><a href=\"https://github.com/fastai/fastcore/tree/master/fastcore/imports.py#L62\" class=\"source_link\" style=\"float:right\">[source]</a></h4>\n",
       "\n",
       "> <code>equals</code>(**`a`**, **`b`**)\n",
       "\n",
       "Compares `a` and `b` for equality; supports sublists, tensors and arrays too"
      ],
      "text/plain": [
       "<IPython.core.display.Markdown object>"
      ]
     },
     "metadata": {},
     "output_type": "display_data"
    }
   ],
   "source": [
    "show_doc(equals)"
   ]
  },
  {
   "cell_type": "code",
   "execution_count": 16,
   "metadata": {},
   "outputs": [],
   "source": [
    "test([['abc'],['a']], [['abc'],['a']],  equals)"
   ]
  },
  {
   "cell_type": "code",
   "execution_count": 17,
   "metadata": {},
   "outputs": [],
   "source": [
    "#export\n",
    "def nequals(a,b):\n",
    "    \"Compares `a` and `b` for `not equals`\"\n",
    "    return not equals(a,b)"
   ]
  },
  {
   "cell_type": "code",
   "execution_count": 18,
   "metadata": {},
   "outputs": [],
   "source": [
    "test(['abc'], ['ab' ], nequals)"
   ]
  },
  {
   "cell_type": "markdown",
   "metadata": {},
   "source": [
    "## test_eq test_ne, etc..."
   ]
  },
  {
   "cell_type": "markdown",
   "metadata": {},
   "source": [
    "Just use `test_eq`/`test_ne` to test for `==`/`!=`. `test_eq_type` check things are equals and of the same type. We define them using `test`:"
   ]
  },
  {
   "cell_type": "markdown",
   "metadata": {},
   "source": [
    "`test_eq` is the same as `==` and `test_ne` is the same as `!=`"
   ]
  },
  {
   "cell_type": "code",
   "execution_count": 19,
   "metadata": {},
   "outputs": [],
   "source": [
    "#export\n",
    "def test_eq(a,b):\n",
    "    \"`test` that `a==b`\"\n",
    "    test(a,b,equals, '==') #note the use of the equality sign as our cmp this time. `equals` is a method from python"
   ]
  },
  {
   "cell_type": "code",
   "execution_count": 20,
   "metadata": {
    "hide_input": false
   },
   "outputs": [],
   "source": [
    "test_eq([1,2],[1,2])\n",
    "test_eq([1,2],map(int,[1,2]))\n",
    "test_eq([1,2],map(float,[1,2])) #added by tendo\n",
    "test_eq(array([1,2]),array([1,2]))\n",
    "test_eq(array([1,2]),array([1,2]))\n",
    "test_eq([array([1,2]),3],[array([1,2]),3])\n",
    "test_eq(dict(a=1,b=2), dict(b=2,a=1))\n",
    "test_fail(lambda: test_eq([1,2], 1), contains=\"==\") # the test fails because the args to `test_eq` are different\n",
    "test_eq({'a', 'b', 'c'}, {'c', 'a', 'b'}) # the equality test passes even when the order is changed"
   ]
  },
  {
   "cell_type": "code",
   "execution_count": 21,
   "metadata": {},
   "outputs": [],
   "source": [
    "#hide\n",
    "import pandas as pd"
   ]
  },
  {
   "cell_type": "code",
   "execution_count": 22,
   "metadata": {},
   "outputs": [],
   "source": [
    "# the equality test even work for dataframes!\n",
    "\n",
    "df1 = pd.DataFrame(dict(a=[1,2],b=['a','b']))\n",
    "df2 = pd.DataFrame(dict(a=[1,2],b=['a','b']))\n",
    "\n",
    "test_eq(df1,df2)\n",
    "test_eq(df1.a,df2.a)\n",
    "class T(pd.Series): pass\n",
    "test_eq(df1.iloc[0], T(df2.iloc[0]))"
   ]
  },
  {
   "cell_type": "code",
   "execution_count": 23,
   "metadata": {},
   "outputs": [
    {
     "data": {
      "text/plain": [
       "a    1\n",
       "b    a\n",
       "Name: 0, dtype: object"
      ]
     },
     "execution_count": 23,
     "metadata": {},
     "output_type": "execute_result"
    }
   ],
   "source": [
    "df1.iloc[0]"
   ]
  },
  {
   "cell_type": "code",
   "execution_count": 24,
   "metadata": {},
   "outputs": [
    {
     "data": {
      "text/plain": [
       "a    1\n",
       "b    a\n",
       "Name: 0, dtype: object"
      ]
     },
     "execution_count": 24,
     "metadata": {},
     "output_type": "execute_result"
    }
   ],
   "source": [
    "(df2.iloc[0])"
   ]
  },
  {
   "cell_type": "markdown",
   "metadata": {},
   "source": [
    "In order to test that two args are equal and of the same type, we use `test_eq_type`"
   ]
  },
  {
   "cell_type": "code",
   "execution_count": 25,
   "metadata": {},
   "outputs": [],
   "source": [
    "#export\n",
    "def test_eq_type(a,b):\n",
    "    \"`test` that `a==b` and are same type\"\n",
    "    test_eq(a,b)\n",
    "    test_eq(type(a),type(b)) #make sure the types match\n",
    "    if isinstance(a,(list,tuple)): test_eq(map(type,a),map(type,b)) #if the input arg is a collection map the type over and check for match"
   ]
  },
  {
   "cell_type": "code",
   "execution_count": 26,
   "metadata": {
    "hide_input": false
   },
   "outputs": [],
   "source": [
    "test_eq_type(1,1)\n",
    "test_fail(lambda: test_eq_type(1,1.)) # int and float\n",
    "test_eq_type([1,1],[1,1])\n",
    "test_fail(lambda: test_eq_type([1,1],(1,1)))\n",
    "test_fail(lambda: test_eq_type([1,1],[1,1.]))"
   ]
  },
  {
   "cell_type": "code",
   "execution_count": 27,
   "metadata": {},
   "outputs": [],
   "source": [
    "#export\n",
    "def test_ne(a,b):\n",
    "    \"`test` that `a!=b`\"\n",
    "    test(a,b,nequals,'!=') #`nequals` is a method from python"
   ]
  },
  {
   "cell_type": "code",
   "execution_count": 28,
   "metadata": {
    "hide_input": false
   },
   "outputs": [],
   "source": [
    "test_ne([1,2],[1])\n",
    "test_ne([1,2],[1,3])\n",
    "test_ne(array([1,2]),array([1,1]))\n",
    "test_ne(array([1,2]),array([1,1]))\n",
    "test_ne([array([1,2]),3],[array([1,2])])\n",
    "test_ne([3,4],array([3]))\n",
    "test_ne([3,4],array([3,5]))\n",
    "test_ne(dict(a=1,b=2), ['a', 'b'])\n",
    "test_ne(['a', 'b'], dict(a=1,b=2))"
   ]
  },
  {
   "cell_type": "markdown",
   "metadata": {},
   "source": [
    "Inorder to check if two args `a` and `b` are close to each other with a distance of +- `eps`, we use the `is_close`. This is extended to work in `test_close` test"
   ]
  },
  {
   "cell_type": "code",
   "execution_count": 29,
   "metadata": {},
   "outputs": [],
   "source": [
    "#export\n",
    "def is_close(a,b,eps=1e-5):\n",
    "    \"Is `a` within `eps` of `b`\"\n",
    "    if hasattr(a, '__array__') or hasattr(b,'__array__'): #if input is ndarray\n",
    "        return (abs(a-b)<eps).all()\n",
    "    if isinstance(a, (Iterable,Generator)) or isinstance(b, (Iterable,Generator)): # if input is collection\n",
    "        return is_close(np.array(a), np.array(b), eps=eps) #convert to collection to array and continue\n",
    "    return abs(a-b)<eps"
   ]
  },
  {
   "cell_type": "code",
   "execution_count": 30,
   "metadata": {},
   "outputs": [],
   "source": [
    "#export\n",
    "def test_close(a,b,eps=1e-5):\n",
    "    \"`test` that `a` is within `eps` of `b`\"\n",
    "    test(a,b,partial(is_close,eps=eps),'close') # the error message if test fails will be 'close'"
   ]
  },
  {
   "cell_type": "code",
   "execution_count": 31,
   "metadata": {},
   "outputs": [],
   "source": [
    "test_close(1,1.001,eps=1e-2)\n",
    "test_fail(lambda: test_close(1,1.001))\n",
    "test_close([-0.001,1.001], [0.,1.], eps=1e-2)\n",
    "test_close(np.array([-0.001,1.001]), np.array([0.,1.]), eps=1e-2)\n",
    "test_close(array([-0.001,1.001]), array([0.,1.]), eps=1e-2)"
   ]
  },
  {
   "cell_type": "code",
   "execution_count": 32,
   "metadata": {},
   "outputs": [],
   "source": [
    "#export\n",
    "def test_is(a,b):\n",
    "    \"`test` that `a is b`\"\n",
    "    test(a,b,operator.is_, 'is')"
   ]
  },
  {
   "cell_type": "code",
   "execution_count": 33,
   "metadata": {},
   "outputs": [
    {
     "data": {
      "text/plain": [
       "False"
      ]
     },
     "execution_count": 33,
     "metadata": {},
     "output_type": "execute_result"
    }
   ],
   "source": [
    "operator.is_([1], [1]) #two lists are actually different objects in memory so they are not the same"
   ]
  },
  {
   "cell_type": "code",
   "execution_count": 34,
   "metadata": {},
   "outputs": [],
   "source": [
    "test_fail(lambda: test_is([1], [1]))\n",
    "a = [1]\n",
    "test_is(a, a)"
   ]
  },
  {
   "cell_type": "markdown",
   "metadata": {},
   "source": [
    "You have twi identical lists with the exact same items but different order. Use `test_shuffled` to know if they are shuffled twins"
   ]
  },
  {
   "cell_type": "code",
   "execution_count": 35,
   "metadata": {},
   "outputs": [],
   "source": [
    "#export\n",
    "def test_shuffled(a,b):\n",
    "    \"`test` that `a` and `b` are shuffled versions of the same sequence of items\"\n",
    "    test_ne(a, b) # first make sure the two args are not the same\n",
    "    test_eq(Counter(a), Counter(b)) # count each element in both lists in order to be sure they match"
   ]
  },
  {
   "cell_type": "code",
   "execution_count": 36,
   "metadata": {},
   "outputs": [],
   "source": [
    "a = list(range(50))\n",
    "b = copy(a)\n",
    "random.shuffle(b)\n",
    "test_shuffled(a,b)\n",
    "test_fail(lambda:test_shuffled(a,a))"
   ]
  },
  {
   "cell_type": "code",
   "execution_count": 37,
   "metadata": {},
   "outputs": [],
   "source": [
    "a = 'abc'\n",
    "b = 'abcabc'\n",
    "test_fail(lambda:test_shuffled(a,b)) # the args must be identical list but shuffed"
   ]
  },
  {
   "cell_type": "code",
   "execution_count": 38,
   "metadata": {},
   "outputs": [],
   "source": [
    "a = ['a', 42, True] \n",
    "b = [42, True, 'a']\n",
    "test_shuffled(a,b)"
   ]
  },
  {
   "cell_type": "markdown",
   "metadata": {},
   "source": [
    "use the `test_stdout` to ensure that the output gotten from the function call is what you expect"
   ]
  },
  {
   "cell_type": "code",
   "execution_count": 39,
   "metadata": {},
   "outputs": [
    {
     "data": {
      "application/vnd.google.colaboratory.intrinsic+json": {
       "type": "string"
      },
      "text/plain": [
       "''"
      ]
     },
     "execution_count": 39,
     "metadata": {},
     "output_type": "execute_result"
    }
   ],
   "source": [
    "io.StringIO().getvalue()"
   ]
  },
  {
   "cell_type": "code",
   "execution_count": 40,
   "metadata": {},
   "outputs": [],
   "source": [
    "#export\n",
    "def test_stdout(f, exp, regex=False):\n",
    "    \"Test that `f` prints `exp` to stdout, optionally checking as `regex`\"\n",
    "    s = io.StringIO()\n",
    "    with redirect_stdout(s): f()\n",
    "    if regex: assert re.search(exp, s.getvalue()) is not None\n",
    "    else: test_eq(s.getvalue(), f'{exp}\\n' if len(exp) > 0 else '')"
   ]
  },
  {
   "cell_type": "code",
   "execution_count": 41,
   "metadata": {},
   "outputs": [],
   "source": [
    "test_stdout(lambda: print('hi'), 'hi')\n",
    "test_fail(lambda: test_stdout(lambda: print('hi'), 'ho'))\n",
    "test_stdout(lambda: 1+1, '')\n",
    "test_stdout(lambda: print('hi there!'), r'^hi.*!$', regex=True)"
   ]
  },
  {
   "cell_type": "code",
   "execution_count": 42,
   "metadata": {},
   "outputs": [],
   "source": [
    "#export\n",
    "def test_warns(f, show=False):\n",
    "    with warnings.catch_warnings(record=True) as w:\n",
    "        f()\n",
    "        test_ne(len(w), 0)\n",
    "        if show:\n",
    "            for e in w: print(f\"{e.category}: {e.message}\")"
   ]
  },
  {
   "cell_type": "code",
   "execution_count": 43,
   "metadata": {},
   "outputs": [],
   "source": [
    "test_warns(lambda: warnings.warn(\"Oh no!\"), {})\n",
    "test_fail(lambda: test_warns(lambda: 2+2))"
   ]
  },
  {
   "cell_type": "code",
   "execution_count": 44,
   "metadata": {},
   "outputs": [
    {
     "name": "stdout",
     "output_type": "stream",
     "text": [
      "<class 'UserWarning'>: Oh no!\n"
     ]
    }
   ],
   "source": [
    "test_warns(lambda: warnings.warn(\"Oh no!\"), show=True)"
   ]
  },
  {
   "cell_type": "code",
   "execution_count": 45,
   "metadata": {},
   "outputs": [],
   "source": [
    "#export\n",
    "TEST_IMAGE = 'images/puppy.jpg'"
   ]
  },
  {
   "cell_type": "code",
   "execution_count": 46,
   "metadata": {},
   "outputs": [
    {
     "data": {
      "image/png": "[encoded data removed]",
      "text/plain": [
       "<PIL.Image.Image image mode=RGB size=128x128 at 0x7F2C41F1CDD8>"
      ]
     },
     "execution_count": 46,
     "metadata": {},
     "output_type": "execute_result"
    }
   ],
   "source": [
    "im = Image.open(TEST_IMAGE).resize((128,128)); im"
   ]
  },
  {
   "cell_type": "code",
   "execution_count": 47,
   "metadata": {},
   "outputs": [],
   "source": [
    "#export\n",
    "TEST_IMAGE_BW = 'images/mnist3.png'"
   ]
  },
  {
   "cell_type": "code",
   "execution_count": 48,
   "metadata": {},
   "outputs": [
    {
     "data": {
      "image/png": "[encoded data removed]",
      "text/plain": [
       "<PIL.Image.Image image mode=L size=128x128 at 0x7F2C41F1CBA8>"
      ]
     },
     "execution_count": 48,
     "metadata": {},
     "output_type": "execute_result"
    }
   ],
   "source": [
    "im = Image.open(TEST_IMAGE_BW).resize((128,128)); im"
   ]
  },
  {
   "cell_type": "code",
   "execution_count": 49,
   "metadata": {},
   "outputs": [],
   "source": [
    "#export\n",
    "def test_fig_exists(ax):\n",
    "    \"Test there is a figure displayed in `ax`\"\n",
    "    assert ax and len(np.frombuffer(ax.figure.canvas.tostring_argb(), dtype=np.uint8))"
   ]
  },
  {
   "cell_type": "code",
   "execution_count": 50,
   "metadata": {},
   "outputs": [
    {
     "data": {
      "image/png": "[encoded data removed]",
      "text/plain": [
       "<Figure size 432x288 with 1 Axes>"
      ]
     },
     "metadata": {
      "needs_background": "light"
     },
     "output_type": "display_data"
    }
   ],
   "source": [
    "fig,ax = plt.subplots()\n",
    "ax.imshow(array(im));"
   ]
  },
  {
   "cell_type": "code",
   "execution_count": 51,
   "metadata": {},
   "outputs": [],
   "source": [
    "test_fig_exists(ax)"
   ]
  },
  {
   "cell_type": "code",
   "execution_count": 52,
   "metadata": {},
   "outputs": [],
   "source": [
    "#hide\n",
    "from nbdev.export import notebook2script\n",
    "# notebook2script()"
   ]
  },
  {
   "cell_type": "code",
   "execution_count": null,
   "metadata": {},
   "outputs": [],
   "source": []
  },
  {
   "cell_type": "code",
   "execution_count": null,
   "metadata": {},
   "outputs": [],
   "source": []
  }
 ],
 "metadata": {
  "jupytext": {
   "split_at_heading": true
  },
  "kernelspec": {
   "display_name": "Python 3",
   "language": "python",
   "name": "python3"
  },
  "language_info": {
   "codemirror_mode": {
    "name": "ipython",
    "version": 3
   },
   "file_extension": ".py",
   "mimetype": "text/x-python",
   "name": "python",
   "nbconvert_exporter": "python",
   "pygments_lexer": "ipython3",
   "version": "3.6.9"
  }
 },
 "nbformat": 4,
 "nbformat_minor": 2
}
