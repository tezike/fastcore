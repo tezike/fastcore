{
 "cells": [
  {
   "cell_type": "code",
   "execution_count": 1,
   "metadata": {},
   "outputs": [],
   "source": [
    "#default_exp dispatch"
   ]
  },
  {
   "cell_type": "code",
   "execution_count": 2,
   "metadata": {},
   "outputs": [],
   "source": [
    "#export\n",
    "from fastcore.imports import *\n",
    "from fastcore.foundation import *\n",
    "from fastcore.utils import *"
   ]
  },
  {
   "cell_type": "code",
   "execution_count": 3,
   "metadata": {},
   "outputs": [],
   "source": [
    "from nbdev.showdoc import *\n",
    "from fastcore.test import *"
   ]
  },
  {
   "cell_type": "markdown",
   "metadata": {},
   "source": [
    "# Type dispatch\n",
    "\n",
    "> Basic single and dual parameter dispatch"
   ]
  },
  {
   "cell_type": "markdown",
   "metadata": {},
   "source": [
    "## Helpers"
   ]
  },
  {
   "cell_type": "code",
   "execution_count": 11,
   "metadata": {},
   "outputs": [
    {
     "data": {
      "text/plain": [
       "{'a': int}"
      ]
     },
     "execution_count": 11,
     "metadata": {},
     "output_type": "execute_result"
    }
   ],
   "source": [
    "def foo(a: int): return None\n",
    "typing.get_type_hints(foo)"
   ]
  },
  {
   "cell_type": "code",
   "execution_count": 12,
   "metadata": {},
   "outputs": [
    {
     "data": {
      "text/plain": [
       "(function,\n",
       " builtin_function_or_method,\n",
       " method,\n",
       " module,\n",
       " wrapper_descriptor,\n",
       " method-wrapper,\n",
       " method_descriptor)"
      ]
     },
     "execution_count": 12,
     "metadata": {},
     "output_type": "execute_result"
    }
   ],
   "source": [
    "typing._allowed_types"
   ]
  },
  {
   "cell_type": "code",
   "execution_count": 7,
   "metadata": {},
   "outputs": [],
   "source": [
    "# method used in getting the types of the args passed into a func/method if the func/method is an allowed type \n",
    "# in python else return an empty dict\n",
    "#exports\n",
    "def type_hints(f):\n",
    "    \"Same as `typing.get_type_hints` but returns `{}` if not allowed type\"\n",
    "    return typing.get_type_hints(f) if isinstance(f, typing._allowed_types) else {}"
   ]
  },
  {
   "cell_type": "code",
   "execution_count": 13,
   "metadata": {},
   "outputs": [
    {
     "data": {
      "text/plain": [
       "{'a': int}"
      ]
     },
     "execution_count": 13,
     "metadata": {},
     "output_type": "execute_result"
    }
   ],
   "source": [
    "type_hints(foo)"
   ]
  },
  {
   "cell_type": "code",
   "execution_count": 15,
   "metadata": {},
   "outputs": [],
   "source": [
    "#tendo test\n",
    "def foo(a: int): return None\n",
    "test_eq(type_hints(foo), {'a': int})\n",
    "def foo(a: float): return None\n",
    "test_eq(type_hints(foo), {'a': float})\n",
    "def foo(a: typing.Tuple[float, int]): return None\n",
    "test_eq(type_hints(foo), {'a': typing.Tuple[float, int]})\n",
    "def foo(a: typing.Tuple[float, int], b: list): return None\n",
    "test_eq(type_hints(foo), {'a': typing.Tuple[float, int], 'b': list})"
   ]
  },
  {
   "cell_type": "code",
   "execution_count": 10,
   "metadata": {},
   "outputs": [
    {
     "data": {
      "text/plain": [
       "{'a': int, 'return': float}"
      ]
     },
     "execution_count": 10,
     "metadata": {},
     "output_type": "execute_result"
    }
   ],
   "source": [
    "def foo(a:int) -> float: return None\n",
    "typing.get_type_hints(foo)"
   ]
  },
  {
   "cell_type": "code",
   "execution_count": 16,
   "metadata": {},
   "outputs": [],
   "source": [
    "# func to get the return key in the func's arg type dict as shown above\n",
    "#export\n",
    "def anno_ret(func):\n",
    "    \"Get the return annotation of `func`\"\n",
    "    if not func: return None\n",
    "    ann = type_hints(func)\n",
    "    if not ann: return None\n",
    "    return ann.get('return')"
   ]
  },
  {
   "cell_type": "code",
   "execution_count": 17,
   "metadata": {},
   "outputs": [],
   "source": [
    "#hide\n",
    "def f(x) -> float: return x\n",
    "test_eq(anno_ret(f), float)\n",
    "def f(x) -> typing.Tuple[float,float]: return x\n",
    "test_eq(anno_ret(f), typing.Tuple[float,float])\n",
    "def f(x) -> None: return x\n",
    "test_eq(anno_ret(f), NoneType) #Note that when a None return type is specified, it return a NoneType\n",
    "def f(x): return x\n",
    "test_eq(anno_ret(f), None) #Note that when no return Type is listed, is returns None\n",
    "test_eq(anno_ret(None), None)"
   ]
  },
  {
   "cell_type": "code",
   "execution_count": 52,
   "metadata": {},
   "outputs": [
    {
     "data": {
      "text/plain": [
       "(True, True)"
      ]
     },
     "execution_count": 52,
     "metadata": {},
     "output_type": "execute_result"
    }
   ],
   "source": [
    "issubclass(int, int), issubclass(int, numbers.Integral)"
   ]
  },
  {
   "cell_type": "code",
   "execution_count": 20,
   "metadata": {},
   "outputs": [],
   "source": [
    "#export\n",
    "# recursively grab two elements from a list of types, and compare them based on subclass and equality to \n",
    "# get their order in desceding order from uppermost superclass to least subclass\n",
    "# https://www.geeksforgeeks.org/functools-module-in-python/\n",
    "cmp_instance = functools.cmp_to_key(lambda a,b: 0 if a==b else 1 if issubclass(a,b) else -1)"
   ]
  },
  {
   "cell_type": "code",
   "execution_count": 54,
   "metadata": {},
   "outputs": [
    {
     "data": {
      "text/plain": [
       "[object, numbers.Number, numbers.Integral, int]"
      ]
     },
     "execution_count": 54,
     "metadata": {},
     "output_type": "execute_result"
    }
   ],
   "source": [
    "td = [int, numbers.Number, numbers.Integral, object]\n",
    "sorted(td, key=cmp_instance)"
   ]
  },
  {
   "cell_type": "code",
   "execution_count": 23,
   "metadata": {},
   "outputs": [],
   "source": [
    "td = {int:1, numbers.Number:2, numbers.Integral:3} #why did Jeremy use a dict? Lists also work fine\n",
    "test_eq(sorted(td, key=cmp_instance), [numbers.Number, numbers.Integral, int])"
   ]
  },
  {
   "cell_type": "code",
   "execution_count": 24,
   "metadata": {},
   "outputs": [],
   "source": [
    "# Etract the first two args type annotations in a func of method as a list containing two items\n",
    "#export\n",
    "def _p2_anno(f):\n",
    "    \"Get the 1st 2 annotations of `f`, defaulting to `object`\"\n",
    "    hints = type_hints(f)\n",
    "#     ensure the return anno is not included\n",
    "    ann = [o for n,o in hints.items() if n!='return']\n",
    "#     if we don't have upto two arg annotations, append object which is basically the root annotation for everything in python\n",
    "    while len(ann)<2: ann.append(object)\n",
    "    return ann[:2]"
   ]
  },
  {
   "cell_type": "code",
   "execution_count": 43,
   "metadata": {},
   "outputs": [
    {
     "data": {
      "text/plain": [
       "(function,\n",
       " builtin_function_or_method,\n",
       " method,\n",
       " module,\n",
       " wrapper_descriptor,\n",
       " method-wrapper,\n",
       " method_descriptor)"
      ]
     },
     "execution_count": 43,
     "metadata": {},
     "output_type": "execute_result"
    }
   ],
   "source": [
    "typing._allowed_types"
   ]
  },
  {
   "cell_type": "code",
   "execution_count": 49,
   "metadata": {},
   "outputs": [
    {
     "name": "stdout",
     "output_type": "stream",
     "text": [
      "{}\n"
     ]
    },
    {
     "data": {
      "text/plain": [
       "9"
      ]
     },
     "execution_count": 49,
     "metadata": {},
     "output_type": "execute_result"
    }
   ],
   "source": [
    "class M:\n",
    "    a = 9\n",
    "f = attrgetter('a')  #this can be seen as a callable which is an allowed type which has not type for it's arg\n",
    "print(type_hints(f))\n",
    "f(M)"
   ]
  },
  {
   "cell_type": "code",
   "execution_count": 50,
   "metadata": {},
   "outputs": [],
   "source": [
    "def _f(a): pass\n",
    "test_eq(_p2_anno(_f), (object,object))  #when no  annotations are passed, the annotations are set as object by default\n",
    "def _f(a, b): pass\n",
    "test_eq(_p2_anno(_f), (object,object))\n",
    "def _f(a:None, b)->str: pass\n",
    "test_eq(_p2_anno(_f), (NoneType,object)) #Note that for type of `None` we return `Nonetype`\n",
    "def _f(a:str, b)->float: pass\n",
    "test_eq(_p2_anno(_f), (str,object)) #note that the return annotation was not returned\n",
    "def _f(a:None, b:str)->float: pass\n",
    "test_eq(_p2_anno(_f), (NoneType,str))\n",
    "def _f(a:int, b:int)->float: pass\n",
    "test_eq(_p2_anno(_f), (int,int))\n",
    "def _f(self, a:int, b:int): pass\n",
    "test_eq(_p2_anno(_f), (int,int))\n",
    "def _f(a:int, b:str)->float: pass\n",
    "test_eq(_p2_anno(_f), (int,str))\n",
    "test_eq(_p2_anno(attrgetter('foo')), (object,object))  #since no type for it's args, default to `object`"
   ]
  },
  {
   "cell_type": "markdown",
   "metadata": {},
   "source": [
    "## TypeDispatch -"
   ]
  },
  {
   "cell_type": "markdown",
   "metadata": {},
   "source": [
    "The following class is the basis that allows us to do type dipatch with type annotations. It contains a dictionary type -> functions and ensures that the proper function is called when passed an object (depending on its type)."
   ]
  },
  {
   "cell_type": "code",
   "execution_count": 59,
   "metadata": {},
   "outputs": [],
   "source": [
    "#export\n",
    "class _TypeDict:\n",
    "#     d is the dict if dispatchable types to func ie {type:func} and cache is the cache -_-\n",
    "    def __init__(self): self.d,self.cache = {},{}\n",
    "\n",
    "    def _reset(self): #this should really be called reorder\n",
    "#         when reset, reset the  cache to an empty dict and reset the `self.d` to an ordered dict of {types:func} in ascending order this time\n",
    "        self.d = {k:self.d[k] for k in sorted(self.d, key=cmp_instance, reverse=True)}\n",
    "        self.cache = {}\n",
    "\n",
    "    def add(self, t, f):\n",
    "        \"Add type `t` and function `f`\"\n",
    "#         add a new type `t` to and it's dispatch func `f` to the dict of dispatchable funcs `self.d`. Always ensure it is a tuple for times \n",
    "#         where we have an arg in a func with more than one type\n",
    "        if not isinstance(t,tuple): t=tuple(L(t))\n",
    "#         add this func `f` with type `t` to the dispatchable type dict `self.d` in {t:f} pair\n",
    "        for t_ in t: self.d[t_] = f\n",
    "#         as soon as the a new func is added to the dispatchable type dict `self.d` reset(reorder) the dict from least subclass to highest superclass\n",
    "        self._reset()\n",
    "\n",
    "    def all_matches(self, k):\n",
    "        \"Find first matching type that is a super-class of `k`\"\n",
    "#         if a type queried for is not in cache which is from `self.d`\n",
    "        if k not in self.cache:\n",
    "#             if type k is equal to a type in `self.d`(dispatchable type dict) or a type from `self.d` is a superclass of `k` \n",
    "#             add that type from `self.d` to the list of items to be cached\n",
    "            types = [f for f in self.d if k==f or (isinstance(k,type) and issubclass(k,f))]\n",
    "#           all the types that match or are a superclass of the `k` query type should be used to index into the `self.d` dict so \n",
    "#           we can extract all the funcs that match that query type `k` and put them in a list which will then be put in the \n",
    "#           cache dict with a k of the query `k` type\n",
    "            self.cache[k] = [self.d[o] for o in types]\n",
    "#     return the list of func(s) that match the queried type\n",
    "        return self.cache[k]\n",
    "\n",
    "    def __getitem__(self, k):\n",
    "        \"Find first matching type that is a super-class of `k`\"\n",
    "        res = self.all_matches(k)\n",
    "        return res[0] if len(res) else None\n",
    "\n",
    "    def __repr__(self): return self.d.__repr__()\n",
    "#     the `first` method returns the first item in the values list from `self.d`(dictionary of dispatchable types)\n",
    "    def first(self): return first(self.d.values())"
   ]
  },
  {
   "cell_type": "code",
   "execution_count": 60,
   "metadata": {},
   "outputs": [
    {
     "data": {
      "text/plain": [
       "True"
      ]
     },
     "execution_count": 60,
     "metadata": {},
     "output_type": "execute_result"
    }
   ],
   "source": [
    "issubclass(int, numbers.Integral)"
   ]
  },
  {
   "cell_type": "markdown",
   "metadata": {},
   "source": [
    "It needs to work a lot like a dict because we will be adding things to it.\n",
    "\n",
    "Recall that encodes, decodes, setups of Transforms are objects of type TypeDispatch. So we want to dispatch different code depending on type. (See\n",
    "Rotate example below).\n",
    "\n",
    "Dispatch refers to how a programming language decides which piece of code to run when you call something. Different languages do this in different ways.\n",
    "\n",
    "We want something for TypeDispatch that looks like a function so has a \\_\\_call\\_\\_\n",
    "but when you call it with some argument, we are not just going to call a function BUT we are going to look at the type of the argument and we are going to find the appropriate function or method to call based on the type of the argument passed in and the methods created so far. \n",
    "\n",
    "So, inside our TypeDispatch is a dict called funcs where the key is the type so for eg in Rotate eg below we have keys, TensorImage and Bbox, and the values are the functions to call for each key. \n",
    "\n",
    "There is an add method in TypeDispatch which is what _TfmDict calls.It adds this function - when it does self[k].add(v). The add method finds the type annotation using _p2_anno and if anno is None assumes it is object (which is highest level of the type hierarchy) and it pops it into our funcs dictionary.\n",
    "\n",
    "\n",
    "Later when we call \\_\\_call\\_\\_ it is going to look up the type of parameter you are calling this function on by mapping type (see below) and then it is going to look it up in this object. If it does not find it, it returns arg[0] which implies doing nothing but just returning x (so x is arg[0]). So if you call Rotate with Int (instead of with TensorImage or BoundingBox) nothing happens implies it return whatever is its input unchanged. That function is not defined for that type. If we do find it we call it with anything else you passed along (*args, **kwargs). Can turn into method if needed.\n",
    "\n",
    "How does it look up type? See \\_\\_getitem\\_\\_ code \n",
    "\n",
    "We keep a cache in _TypeDict which is a dict mapping from types to functions. We need a special cache dict coz of way TypeDispatch works (explained below). If we do not find it in cache - self.func.all_matches(k[0]) - if k is not in cache (in all_matches code) then we add it to cache as per code in all_matches method. \n",
    "\n",
    "TypeDispatch looks not just at type of TensorImage, BoundingBox etc but looks at subclassess of those for e.g., if we also add Rotate for Tensors TypeDispatch\n",
    "will grab the most specific (lowest subclass) version it can which is a TensorImage. Also if you have defined encodes on Tensor and call it on TensorImage which is subclass of Tensor, then it WILL be invoked because of the way the cache is created. \n",
    "\n"
   ]
  },
  {
   "cell_type": "code",
   "execution_count": null,
   "metadata": {},
   "outputs": [],
   "source": [
    "self.func is a `_TypeDict` containing a dict of type to `_TypeDict` {type : `_TypeDict`}"
   ]
  },
  {
   "cell_type": "code",
   "execution_count": 145,
   "metadata": {},
   "outputs": [],
   "source": [
    "#export\n",
    "class TypeDispatch:\n",
    "    \"Dictionary-like object; `__getitem__` matches keys of types using `issubclass`\"\n",
    "    def __init__(self, funcs=(), bases=()):\n",
    "        self.funcs,self.bases = _TypeDict(),L(bases).filter(is_not(None))\n",
    "#         that add here calls add below\n",
    "        for i, o in enumerate(L(funcs)): \n",
    "            self.add(o)\n",
    "#             if i == 0: break\n",
    "        self.inst = None\n",
    "\n",
    "    def add(self, f):\n",
    "        \"Add type `t` and function `f`\"\n",
    "#         get the first two annotations of the function(s) in `funcs\n",
    "        a0,a1 = _p2_anno(f)\n",
    "#        NB: Always remember that sef.funcs is a `_TypeDict()`. In our case, I'll reference it as the outer `TypeDict`\n",
    "#        In the `self.funcs` use the `d` attribute of a `_TypeDict()` which contains a dictionary of {types:function with the type}\n",
    "#        to get a type of a0 (first arg's type) if it exists out of this `_TypeDict` dictionary\n",
    "        t = self.funcs.d.get(a0)\n",
    "#       If the type we are given is not available in the `d` atrr\n",
    "        if t is None:\n",
    "#         create a new TypeDict\n",
    "            t = _TypeDict()\n",
    "#         and add this new type dict as a value in the outer `TypeDict`. The key in the outer `TypeDict` should be the a0(first arg's type)\n",
    "            self.funcs.add(a0, t)\n",
    "#        At this point we have an outer `TypeDict` of {first_arg_type: _TypeDict()}\n",
    "#        This `_TypeDict` inside the outer `TypeDict` willl be referneced as the inner `TypeDict`\n",
    "        \n",
    "#       We add the function argument `f` as a value into this inner `TypeDict` with a key corresponding to the a0 ie type of the second arg\n",
    "        t.add(a1, f)\n",
    "#       At this point, we have a nested type dict of the form\n",
    "#       {first_arg_type: {second_arg_type : func}}\n",
    "\n",
    "#      NB: Note that if either first_arg_type or second_arg_type is a collection of types, \n",
    "#      the {first_arg_type: {second_arg_type : func}} will be done for each of the args in the collection individually\n",
    "#      hence we will have {first_arg_type[0]: \n",
    "#                                            {second_arg_type[0] : func, second_arg_type[1] : func}, \n",
    "#                          first_arg_type[1]:\n",
    "#                                            {second_arg_type[0] : func, second_arg_type[1] : func}}\n",
    "        \n",
    "    \n",
    "    \n",
    "#   This returns the inner first item in the list of values for the inner `_TypeDict()` from the \n",
    "#   first item in the list of values for the outer `_TypeDict()`\n",
    "    def first(self): return self.funcs.first().first()\n",
    "    \n",
    "#   Calling `self[]` calls `self.__getitem__()`. The function in the Inner `_TypeDict()` is extracted and it's return annotation is returned\n",
    "    def returns(self, x): return anno_ret(self[type(x)])\n",
    "#     ensure that the return annotation of the func in the inner `_TypeDict()` is NoneType\n",
    "    def returns_none(self, x):\n",
    "        r = anno_ret(self[type(x)])\n",
    "        return r if r == NoneType else None\n",
    "\n",
    "    def _attname(self,k): return getattr(k,'__name__',str(k))\n",
    "    def __repr__(self):\n",
    "        r = [f'({self._attname(k)},{self._attname(l)}) -> {getattr(v, \"__name__\", v.__class__.__name__)}'\n",
    "             for k in self.funcs.d for l,v in self.funcs[k].d.items()]\n",
    "        r = r + [o.__repr__() for o in self.bases]\n",
    "        return '\\n'.join(r)\n",
    "\n",
    "    def __call__(self, *args, **kwargs):\n",
    "        ts = L(args).map(type)[:2]\n",
    "        f = self[tuple(ts)]\n",
    "        if not f: return args[0]\n",
    "        if self.inst is not None: f = MethodType(f, self.inst)\n",
    "        return f(*args, **kwargs)\n",
    "\n",
    "    def __get__(self, inst, owner):\n",
    "        self.inst = inst\n",
    "        return self\n",
    "\n",
    "#     Look through the `self.funcs` outer `_TypeDict()` to find if there are types in it's keys that match the query `k` or are a superclass of it.\n",
    "#     study `_TypeDict().all_matches` mthod again to get more insight \n",
    "    def __getitem__(self, k):\n",
    "        \"Find first matching type that is a super-class of `k`\"\n",
    "        k = L(k)\n",
    "#         always ensure that `k` is a list of 2 types\n",
    "        while len(k)<2: k.append(object)\n",
    "#       obtain the list of inner `TypeDict`(s) in the outer `_TypeDict()` that match the query type `k[0]` (first arg's type)\n",
    "        r = self.funcs.all_matches(k[0])\n",
    "#      loop\n",
    "        for t in r:\n",
    "#           for each TypeDict in the list, use the key k[1](second arg's type) to get the corresponding func\n",
    "            o = t[k[1]]\n",
    "#       if a func was found from the inner `_TypeDict()`, return it\n",
    "            if o is not None: return o\n",
    "        for base in self.bases:\n",
    "            res = base[k]\n",
    "            if res is not None: return res\n",
    "        return None"
   ]
  },
  {
   "cell_type": "code",
   "execution_count": 157,
   "metadata": {},
   "outputs": [
    {
     "data": {
      "text/plain": [
       "(True, True)"
      ]
     },
     "execution_count": 157,
     "metadata": {},
     "output_type": "execute_result"
    }
   ],
   "source": [
    "issubclass(np.int32, numbers.Integral), issubclass(str, typing.Collection)"
   ]
  },
  {
   "cell_type": "code",
   "execution_count": 158,
   "metadata": {},
   "outputs": [
    {
     "data": {
      "text/plain": [
       "numpy.int32"
      ]
     },
     "execution_count": 158,
     "metadata": {},
     "output_type": "execute_result"
    }
   ],
   "source": [
    "type(np.int32(1))"
   ]
  },
  {
   "cell_type": "code",
   "execution_count": 146,
   "metadata": {},
   "outputs": [
    {
     "data": {
      "text/plain": [
       "(list,object) -> f_bll\n",
       "(Collection,object) -> f_col\n",
       "(bool,object) -> f_bll\n",
       "(int,object) -> f_ni2\n",
       "(Integral,object) -> f_nin\n",
       "(Number,object) -> f_num\n",
       "(object,object) -> NoneType"
      ]
     },
     "execution_count": 146,
     "metadata": {},
     "output_type": "execute_result"
    }
   ],
   "source": [
    "def f_col(x:typing.Collection): return x\n",
    "def f_nin(x:numbers.Integral)->int:  return x+1\n",
    "def f_ni2(x:int): return x\n",
    "def f_bll(x:(bool,list)): return x\n",
    "def f_num(x:numbers.Number): return x\n",
    "t = TypeDispatch([f_nin,f_ni2,f_num,f_bll,None]) # Store the funcs in the typedispatch's `_TypeDict`\n",
    "\n",
    "t.add(f_ni2) #Should work even if we add the same function twice. because of caching in the _TypeDict\n",
    "test_eq(t[int], f_ni2) \n",
    "test_eq(t[np.int32], f_nin) #np.int32 is a subclass of numbers.Integral which is why the type is dispatched to the `f_nin` func\n",
    "test_eq(t[str], None) #there is no func with this type or a superclass of it so `typedispatch.__getitem__` defaults to None \n",
    "# test_eq(t[float], f_num) float is a subclass of numbers.Number\n",
    "test_eq(t[bool], f_bll) #since the types in the `_TypeDict()` for multiple types are spread out, we can get their individual dispatch funcs\n",
    "test_eq(t[list], f_bll)\n",
    "t.add(f_col) # we can add new funcs to the TypeDispatch dict on the fly just like we would to a normal dict\n",
    "test_eq(t[str], f_col) #str is a subclass of typing.Collection so it is dispatched to the appropriate func\n",
    "test_eq(t[np.int32], f_nin)\n",
    "# Let's test the __call__\n",
    "o = np.int32(1)\n",
    "test_eq(t(o), 2)\n",
    "test_eq(t.returns(o), int)\n",
    "assert t.first() is not None\n",
    "t"
   ]
  },
  {
   "cell_type": "markdown",
   "metadata": {},
   "source": [
    "If bases is set to a collection of TypeDispatch objects, then they are searched matching functions if no match is found in this object."
   ]
  },
  {
   "cell_type": "code",
   "execution_count": 152,
   "metadata": {},
   "outputs": [
    {
     "data": {
      "text/plain": [
       "<function __main__.f_num>"
      ]
     },
     "execution_count": 152,
     "metadata": {},
     "output_type": "execute_result"
    }
   ],
   "source": [
    "t[numbers.Number]"
   ]
  },
  {
   "cell_type": "code",
   "execution_count": 147,
   "metadata": {},
   "outputs": [],
   "source": [
    "def f_str(x:str): return x+'1'\n",
    "\n",
    "t2 = TypeDispatch(f_str, bases=t)\n",
    "test_eq(t2[int], f_ni2)\n",
    "test_eq(t2[np.int32], f_nin)\n",
    "test_eq(t2[float], f_num)\n",
    "test_eq(t2[bool], f_bll)\n",
    "test_eq(t2[str], f_str)\n",
    "test_eq(t2('a'), 'a1')\n",
    "test_eq(t2[np.int32], f_nin)\n",
    "test_eq(t2(o), 2)\n",
    "test_eq(t2.returns(o), int)"
   ]
  },
  {
   "cell_type": "code",
   "execution_count": null,
   "metadata": {},
   "outputs": [],
   "source": [
    "def m_nin(self, x:(str,numbers.Integral)): return str(x)+'1'\n",
    "def m_bll(self, x:bool): self.foo='a'\n",
    "def m_num(self, x:numbers.Number): return x\n",
    "\n",
    "t = TypeDispatch([m_nin,m_num,m_bll])\n",
    "class A: f = t\n",
    "a = A()\n",
    "test_eq(a.f(1), '11')\n",
    "test_eq(a.f(1.), 1.)\n",
    "test_is(a.f.inst, a)\n",
    "a.f(False)\n",
    "test_eq(a.foo, 'a')\n",
    "test_eq(a.f(()), ())"
   ]
  },
  {
   "cell_type": "code",
   "execution_count": null,
   "metadata": {},
   "outputs": [],
   "source": [
    "def m_tup(self, x:tuple): return x+(1,)\n",
    "t2 = TypeDispatch(m_tup, t)\n",
    "class A2: f = t2\n",
    "a2 = A2()\n",
    "test_eq(a2.f(1), '11')\n",
    "test_eq(a2.f(1.), 1.)\n",
    "test_is(a2.f.inst, a2)\n",
    "a2.f(False)\n",
    "test_eq(a2.foo, 'a')\n",
    "test_eq(a2.f(()), (1,))"
   ]
  },
  {
   "cell_type": "code",
   "execution_count": null,
   "metadata": {},
   "outputs": [],
   "source": [
    "def f1(x:numbers.Integral, y): return x+1\n",
    "def f2(x:int, y:float): return x+y\n",
    "t = TypeDispatch([f1,f2])\n",
    "\n",
    "test_eq(t[int], f1)\n",
    "test_eq(t[int,int], f1)\n",
    "test_eq(t[int,float], f2)\n",
    "test_eq(t[float,float], None)\n",
    "test_eq(t[np.int32,float], f1)\n",
    "test_eq(t(3,2.0), 5)\n",
    "test_eq(t(3,2), 4)\n",
    "test_eq(t('a'), 'a')"
   ]
  },
  {
   "cell_type": "markdown",
   "metadata": {},
   "source": [
    "## typedispatch Decorator"
   ]
  },
  {
   "cell_type": "code",
   "execution_count": null,
   "metadata": {},
   "outputs": [],
   "source": [
    "#export\n",
    "class DispatchReg:\n",
    "    \"A global registry for `TypeDispatch` objects keyed by function name\"\n",
    "    def __init__(self): self.d = defaultdict(TypeDispatch)\n",
    "    def __call__(self, f):\n",
    "        nm = f'{f.__qualname__}'\n",
    "        self.d[nm].add(f)\n",
    "        return self.d[nm]\n",
    "\n",
    "typedispatch = DispatchReg()"
   ]
  },
  {
   "cell_type": "code",
   "execution_count": null,
   "metadata": {},
   "outputs": [],
   "source": [
    "@typedispatch\n",
    "def f_td_test(x, y): return f'{x}{y}'\n",
    "@typedispatch\n",
    "def f_td_test(x:numbers.Integral, y): return x+1\n",
    "@typedispatch\n",
    "def f_td_test(x:int, y:float): return x+y\n",
    "\n",
    "test_eq(f_td_test(3,2.0), 5)\n",
    "test_eq(f_td_test(3,2), 4)\n",
    "test_eq(f_td_test('a','b'), 'ab')"
   ]
  },
  {
   "cell_type": "code",
   "execution_count": null,
   "metadata": {},
   "outputs": [],
   "source": []
  },
  {
   "cell_type": "code",
   "execution_count": null,
   "metadata": {},
   "outputs": [],
   "source": []
  },
  {
   "cell_type": "code",
   "execution_count": null,
   "metadata": {},
   "outputs": [],
   "source": []
  },
  {
   "cell_type": "code",
   "execution_count": null,
   "metadata": {},
   "outputs": [],
   "source": []
  },
  {
   "cell_type": "code",
   "execution_count": null,
   "metadata": {},
   "outputs": [],
   "source": []
  },
  {
   "cell_type": "code",
   "execution_count": null,
   "metadata": {},
   "outputs": [],
   "source": []
  }
 ],
 "metadata": {
  "jupytext": {
   "split_at_heading": true
  },
  "kernelspec": {
   "display_name": "Python 3",
   "language": "python",
   "name": "python3"
  },
  "language_info": {
   "codemirror_mode": {
    "name": "ipython",
    "version": 3
   },
   "file_extension": ".py",
   "mimetype": "text/x-python",
   "name": "python",
   "nbconvert_exporter": "python",
   "pygments_lexer": "ipython3",
   "version": "3.6.9"
  }
 },
 "nbformat": 4,
 "nbformat_minor": 2
}
