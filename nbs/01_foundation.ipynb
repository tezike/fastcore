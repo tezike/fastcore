{
 "cells": [
  {
   "cell_type": "code",
   "execution_count": 1,
   "metadata": {},
   "outputs": [],
   "source": [
    "#default_exp foundation"
   ]
  },
  {
   "cell_type": "code",
   "execution_count": 2,
   "metadata": {},
   "outputs": [],
   "source": [
    "#export\n",
    "from fastcore.imports import *"
   ]
  },
  {
   "cell_type": "code",
   "execution_count": 3,
   "metadata": {},
   "outputs": [],
   "source": [
    "from fastcore.test import *\n",
    "from nbdev.showdoc import *"
   ]
  },
  {
   "cell_type": "markdown",
   "metadata": {},
   "source": [
    "# Core\n",
    "\n",
    "> Basic functions used in the fastai library"
   ]
  },
  {
   "cell_type": "code",
   "execution_count": 4,
   "metadata": {},
   "outputs": [],
   "source": [
    "# export\n",
    "defaults = SimpleNamespace()"
   ]
  },
  {
   "cell_type": "markdown",
   "metadata": {},
   "source": [
    "## Metaclasses"
   ]
  },
  {
   "cell_type": "markdown",
   "metadata": {},
   "source": [
    "See this [blog post](https://realpython.com/python-metaclasses/) for more information about metaclasses. \n",
    "- `PrePostInitMeta` ensures that the classes defined with it run `__pre_init__` and `__post_init__` (without having to write `self.__pre_init__()` and `self.__post_init__()`  in the actual `init`\n",
    "- `NewChkMeta` gives the `PrePostInitMeta` functionality and ensures classes defined with it don't re-create an object of their type whenever it's passed to the constructor\n",
    "- `BypassNewMeta` ensures classes defined with it can easily be casted form objects they subclass."
   ]
  },
  {
   "cell_type": "markdown",
   "metadata": {},
   "source": [
    "**NB: While a class is being defined from a metaclass, the `cls` arg in `__new__` of the metaclass points to the metaclass itself while `base` points to the defined class.**\n",
    "\n",
    "**This behaviour changes as soon as the class has been defined. When it is now being instantiated, the `cls` in all the dunder methods of the metaclass now point to the class being instantaited instead of the metaclass **"
   ]
  },
  {
   "cell_type": "code",
   "execution_count": 5,
   "metadata": {},
   "outputs": [],
   "source": [
    "#export \n",
    "def _rm_self(sig):\n",
    "    # literally remove `self` from the class' __init__ signature\n",
    "\n",
    "    # this takes the signature of a class' __init__, gets it's args/params dict, \n",
    "    # removes 'self' from the dict and then replaces the initial signature with the one without the 'self' \n",
    "    sigd = dict(sig.parameters)\n",
    "    sigd.pop('self')\n",
    "    return sig.replace(parameters=sigd.values())"
   ]
  },
  {
   "cell_type": "code",
   "execution_count": 6,
   "metadata": {},
   "outputs": [
    {
     "data": {
      "text/plain": [
       "<Signature (self, /, *args, **kwargs)>"
      ]
     },
     "execution_count": 6,
     "metadata": {},
     "output_type": "execute_result"
    }
   ],
   "source": [
    "inspect.signature(object.__init__)"
   ]
  },
  {
   "cell_type": "code",
   "execution_count": 7,
   "metadata": {},
   "outputs": [],
   "source": [
    "class A(type):\n",
    "    def __new__(cls, name, bases, dict):\n",
    "        print('creating __new__')\n",
    "        res = super().__new__(cls, name, bases, dict)\n",
    "        print(res, cls, name, bases, dict)        \n",
    "        print(res)\n",
    "\n",
    "        return res"
   ]
  },
  {
   "cell_type": "code",
   "execution_count": 8,
   "metadata": {},
   "outputs": [
    {
     "name": "stdout",
     "output_type": "stream",
     "text": [
      "creating __new__\n",
      "<class '__main__.B'> <class '__main__.A'> B () {'__module__': '__main__', '__qualname__': 'B'}\n",
      "<class '__main__.B'>\n"
     ]
    }
   ],
   "source": [
    "class B(metaclass = A): ... # the `cls` arg should point to the metaclass while `base` points to the defined class"
   ]
  },
  {
   "cell_type": "code",
   "execution_count": 9,
   "metadata": {},
   "outputs": [],
   "source": [
    "#export\n",
    "# this is the metaclass that handles `self`-stripping classes that are instatiated by this meta\n",
    "class FixSigMeta(type):\n",
    "    \"A metaclass that fixes the signature on classes that override __new__\"\n",
    "    def __new__(cls, name, bases, dict):\n",
    "#         we want to change the __new__ from `type` in our new metaclass `FixSigMeta` \n",
    "#         to represent the base class that will be inheriting this meta\n",
    "        res = super().__new__(cls, name, bases, dict)\n",
    "        \n",
    "#         if the init of the child class(base class) is not a slot wrapper(init of an object) ie the class has \n",
    "#         it's own init, strip that init signature of it's `self` arg by calling `_rm_self`\n",
    "        if res.__init__ is not object.__init__: res.__signature__ = _rm_self(inspect.signature(res.__init__))\n",
    "#         return this self-stripped base class\n",
    "        return res"
   ]
  },
  {
   "cell_type": "code",
   "execution_count": 10,
   "metadata": {},
   "outputs": [],
   "source": [
    "class A(type):\n",
    "    def __call__(cls, *args, **kwargs):\n",
    "        print(cls)"
   ]
  },
  {
   "cell_type": "code",
   "execution_count": 11,
   "metadata": {},
   "outputs": [],
   "source": [
    "class B(metaclass=A): ..."
   ]
  },
  {
   "cell_type": "code",
   "execution_count": 12,
   "metadata": {},
   "outputs": [
    {
     "name": "stdout",
     "output_type": "stream",
     "text": [
      "<class '__main__.B'>\n"
     ]
    }
   ],
   "source": [
    "B(3) #it should point to the defined class"
   ]
  },
  {
   "cell_type": "code",
   "execution_count": 13,
   "metadata": {},
   "outputs": [
    {
     "data": {
      "text/plain": [
       "__main__.B"
      ]
     },
     "execution_count": 13,
     "metadata": {},
     "output_type": "execute_result"
    }
   ],
   "source": [
    "type(B.__new__(B))"
   ]
  },
  {
   "cell_type": "code",
   "execution_count": 14,
   "metadata": {},
   "outputs": [],
   "source": [
    "#export\n",
    "# this is the metaclass inheriting a metaclass that makes sure the optional `__pre_init__` and `__post_init__` are run if they exist\n",
    "# We can use it to avoid ever having to call super() again in the init\n",
    "class PrePostInitMeta(FixSigMeta):\n",
    "    \"A metaclass that calls optional `__pre_init__` and `__post_init__` methods\"\n",
    "    def __call__(cls, *args, **kwargs):\n",
    "        #define a new subclass of the base class \n",
    "#         inotherwords\n",
    "#         create a new definition of the base(defined) class inheriting this meta\n",
    "        res = cls.__new__(cls)\n",
    "#     if this subclass is of the same type with it's super class\n",
    "        if type(res)==cls:\n",
    "#             check if this subclass has `__pre_init__` if it does, call it\n",
    "            if hasattr(res,'__pre_init__'): res.__pre_init__(*args,**kwargs)\n",
    "#           now then run the init\n",
    "            res.__init__(*args,**kwargs)\n",
    "#           #if the class has a __post_init__, run it\n",
    "            if hasattr(res,'__post_init__'): res.__post_init__(*args,**kwargs)\n",
    "#         return the completely run class\n",
    "        return res"
   ]
  },
  {
   "cell_type": "code",
   "execution_count": 15,
   "metadata": {},
   "outputs": [
    {
     "data": {
      "text/markdown": [
       "<h3 id=\"PrePostInitMeta\" class=\"doc_header\"><code>class</code> <code>PrePostInitMeta</code><a href=\"\" class=\"source_link\" style=\"float:right\">[source]</a></h3>\n",
       "\n",
       "> <code>PrePostInitMeta</code>(**`name`**, **`bases`**, **`dict`**) :: [`FixSigMeta`](/foundation.html#FixSigMeta)\n",
       "\n",
       "A metaclass that calls optional `__pre_init__` and `__post_init__` methods"
      ],
      "text/plain": [
       "<IPython.core.display.Markdown object>"
      ]
     },
     "metadata": {},
     "output_type": "display_data"
    }
   ],
   "source": [
    "show_doc(PrePostInitMeta, title_level=3)"
   ]
  },
  {
   "cell_type": "code",
   "execution_count": 16,
   "metadata": {},
   "outputs": [],
   "source": [
    "class _T(metaclass=PrePostInitMeta):\n",
    "    def __pre_init__(self):  self.a  = 0; assert self.a==0\n",
    "    def __init__(self,b=0):  self.a += 1; assert self.a==1\n",
    "    def __post_init__(self): self.a += 1; assert self.a==2\n",
    "\n",
    "t = _T()\n",
    "test_eq(t.a, 2) #the post init if it exists is always the last to run"
   ]
  },
  {
   "cell_type": "code",
   "execution_count": 17,
   "metadata": {},
   "outputs": [],
   "source": [
    "#export\n",
    "# NOTE: According to Jeremy, this is mostly used in L and fp16\n",
    "# this is a meta that tries to make sure that if a subclass of a defined class is passed as an argument to the defined class, it knows and hence doesn't perform any operation\n",
    "# it ensures if the class instance is passed as an arg to the class, the class does not change\n",
    "class NewChkMeta(FixSigMeta):\n",
    "    \"Metaclass to avoid recreating object passed to constructor\"\n",
    "    def __call__(cls, x=None, *args, **kwargs):\n",
    "#         if there's no args or kwarg input when the class is instantiated but x exists and it is an child of the defined class(ie it is an instance)\n",
    "        if not args and not kwargs and x is not None and isinstance(x,cls):\n",
    "#             break out of the and return the child (instance of defined class) as is\n",
    "            x._newchk = 1\n",
    "            return x\n",
    "        res = super().__call__(*((x,) + args), **kwargs)\n",
    "\n",
    "        res._newchk = 0\n",
    "        return res"
   ]
  },
  {
   "cell_type": "code",
   "execution_count": 18,
   "metadata": {},
   "outputs": [],
   "source": [
    "class _T(metaclass=NewChkMeta):\n",
    "    \"Testing\"\n",
    "    def __init__(self, o=None, b=1):\n",
    "        self.foo = getattr(o,'foo',0) + 1\n",
    "        self.b = b"
   ]
  },
  {
   "cell_type": "code",
   "execution_count": 19,
   "metadata": {},
   "outputs": [],
   "source": [
    "# building a full class with `type`\n",
    "\n",
    "# R = type('R', (object, ), {'foo': 10})\n",
    "def init(self, _a=0): #the _a is just there so that self will be recognized, doesn't change much unless another arg is added\n",
    "    self.foo = _a\n",
    "R = type('R', (_T, ), {'__init__': init}) #inorder to attach an init to a class defined with type, we have to use another func `init`"
   ]
  },
  {
   "cell_type": "code",
   "execution_count": 20,
   "metadata": {},
   "outputs": [
    {
     "data": {
      "text/plain": [
       "True"
      ]
     },
     "execution_count": 20,
     "metadata": {},
     "output_type": "execute_result"
    }
   ],
   "source": [
    "issubclass(R, _T)"
   ]
  },
  {
   "cell_type": "code",
   "execution_count": 21,
   "metadata": {},
   "outputs": [],
   "source": [
    "R().foo  #foo is an attribute of this which means that the `__init__` works!"
   ]
  },
  {
   "cell_type": "code",
   "execution_count": 22,
   "metadata": {},
   "outputs": [
    {
     "data": {
      "text/plain": [
       "<__main__._T at 0x7f0e0df33390>"
      ]
     },
     "execution_count": 22,
     "metadata": {},
     "output_type": "execute_result"
    }
   ],
   "source": [
    "R.__new__(_T) # how to create a new instance of a class"
   ]
  },
  {
   "cell_type": "code",
   "execution_count": 23,
   "metadata": {},
   "outputs": [
    {
     "data": {
      "text/plain": [
       "<__main__._T at 0x7f0e0df33438>"
      ]
     },
     "execution_count": 23,
     "metadata": {},
     "output_type": "execute_result"
    }
   ],
   "source": [
    "_T(R.__new__(_T))"
   ]
  },
  {
   "cell_type": "code",
   "execution_count": 24,
   "metadata": {},
   "outputs": [],
   "source": [
    "class _T2():\n",
    "    def __init__(self, o): self.foo = getattr(o,'foo',0) + 1\n",
    "\n",
    "t = _T(1)\n",
    "test_eq(t.foo,1)\n",
    "t2 = _T(t)\n",
    "test_eq(t2.foo,1)\n",
    "test_is(t,t2)\n",
    "t3 = _T(t, b=2)\n",
    "test_eq(t3.b, 2)\n",
    "assert not t3 is t\n",
    "\n",
    "t = _T2(1)\n",
    "test_eq(t.foo,1)\n",
    "t2 = _T2(t)\n",
    "test_eq(t2.foo,2)\n",
    "\n",
    "test_eq(_T.__doc__, \"Testing\")\n",
    "test_eq(str(inspect.signature(_T)), '(o=None, b=1)')"
   ]
  },
  {
   "cell_type": "code",
   "execution_count": 25,
   "metadata": {},
   "outputs": [],
   "source": [
    "#export\n",
    "# Not used anywhere else\n",
    "class BypassNewMeta(FixSigMeta):\n",
    "    \"Metaclass: casts `x` to this class if it's of type `cls._bypass_type`, initializing with `_new_meta` if available\"\n",
    "    def __call__(cls, x=None, *args, **kwargs):\n",
    "        if hasattr(cls, '_new_meta'): x = cls._new_meta(x, *args, **kwargs)\n",
    "        elif not isinstance(x,getattr(cls,'_bypass_type',object)) or len(args) or len(kwargs):\n",
    "            x = super().__call__(*((x,)+args), **kwargs)\n",
    "        if cls!=x.__class__: x.__class__ = cls\n",
    "        return x"
   ]
  },
  {
   "cell_type": "code",
   "execution_count": 26,
   "metadata": {},
   "outputs": [],
   "source": [
    "class T0: pass\n",
    "class _T(T0, metaclass=BypassNewMeta):\n",
    "    _bypass_type=T0\n",
    "    def __init__(self,x): self.x=x\n",
    "\n",
    "t = T0()\n",
    "t.a = 1\n",
    "t2 = _T(t)\n",
    "test_eq(type(t2), _T)\n",
    "test_eq(t2.a,1)\n",
    "test_is(t2,t)\n",
    "t = _T(2)\n",
    "t.x = 2"
   ]
  },
  {
   "cell_type": "markdown",
   "metadata": {},
   "source": [
    "## Foundational functions"
   ]
  },
  {
   "cell_type": "code",
   "execution_count": 27,
   "metadata": {},
   "outputs": [
    {
     "data": {
      "text/plain": [
       "<function __main__.f>"
      ]
     },
     "execution_count": 27,
     "metadata": {},
     "output_type": "execute_result"
    }
   ],
   "source": [
    "def f(mad='mad'):\n",
    "    f = str(mad) + ' oh!'\n",
    "    return f\n",
    "f"
   ]
  },
  {
   "cell_type": "markdown",
   "metadata": {},
   "source": [
    "We can create a copy of this function simply by using `FunctionType(f.__code__, f.__globals__, f.__name__, f.__defaults__, f.__closure__)`"
   ]
  },
  {
   "cell_type": "code",
   "execution_count": 28,
   "metadata": {},
   "outputs": [
    {
     "data": {
      "text/plain": [
       "<function __main__.f>"
      ]
     },
     "execution_count": 28,
     "metadata": {},
     "output_type": "execute_result"
    }
   ],
   "source": [
    "f_ = FunctionType(f.__code__, f.__globals__, f.__name__, f.__defaults__, f.__closure__)\n",
    "f_"
   ]
  },
  {
   "cell_type": "code",
   "execution_count": 29,
   "metadata": {},
   "outputs": [
    {
     "data": {
      "text/plain": [
       "('mad oh!', 'mad oh!')"
      ]
     },
     "execution_count": 29,
     "metadata": {},
     "output_type": "execute_result"
    }
   ],
   "source": [
    "f(), f_()"
   ]
  },
  {
   "cell_type": "code",
   "execution_count": 30,
   "metadata": {},
   "outputs": [
    {
     "data": {
      "application/vnd.google.colaboratory.intrinsic+json": {
       "type": "string"
      },
      "text/plain": [
       "'mad oh!'"
      ]
     },
     "execution_count": 30,
     "metadata": {},
     "output_type": "execute_result"
    }
   ],
   "source": [
    "copy_f = copy(f)\n",
    "copy_f()"
   ]
  },
  {
   "cell_type": "code",
   "execution_count": 31,
   "metadata": {},
   "outputs": [
    {
     "data": {
      "text/plain": [
       "{}"
      ]
     },
     "execution_count": 31,
     "metadata": {},
     "output_type": "execute_result"
    }
   ],
   "source": [
    "f.__dict__  #most funcs contain empty __dict__s by default"
   ]
  },
  {
   "cell_type": "code",
   "execution_count": 32,
   "metadata": {},
   "outputs": [
    {
     "name": "stdout",
     "output_type": "stream",
     "text": [
      "<bound method foo of <class '__main__.A'>>\n",
      "Hi\n"
     ]
    }
   ],
   "source": [
    "#demonstrating MethodType\n",
    "# we change a normal method to a class method\n",
    "class A:\n",
    "    def __init__(self): return None\n",
    "    \n",
    "# method defined outside class\n",
    "def foo(self): \n",
    "    print('Hi')\n",
    "\n",
    "print(MethodType(foo, A))\n",
    "\n",
    "setattr(A, foo.__name__, MethodType(foo, A))\n",
    "\n",
    "A.foo()   #it is a class method which can be called without instantiating the class"
   ]
  },
  {
   "cell_type": "code",
   "execution_count": 33,
   "metadata": {},
   "outputs": [],
   "source": [
    "#export\n",
    "# func makes an exact copy of another func and also resets it `__qualname__`\n",
    "def copy_func(f):\n",
    "    \"Copy a non-builtin function (NB `copy.copy` does not work for this)\"\n",
    "    if not isinstance(f,FunctionType): return copy(f)\n",
    "    fn = FunctionType(f.__code__, f.__globals__, f.__name__, f.__defaults__, f.__closure__)\n",
    "    fn.__dict__.update(f.__dict__)\n",
    "    return fn"
   ]
  },
  {
   "cell_type": "markdown",
   "metadata": {},
   "source": [
    "**NB**: I can't quite see the need for `copy_func` because unlike what he says, copy.copy work perfectly well here.\n",
    "\n",
    "**EDIT**: Jeremy is the smart guy here stupid... The reason why Jeremy uses `copy_func` is because `copy.copy` doesn't copy the reset the __qualname__ of a copied func if it hs been changed. I have done a simulation of this difference in a cell below"
   ]
  },
  {
   "cell_type": "code",
   "execution_count": 34,
   "metadata": {},
   "outputs": [
    {
     "name": "stdout",
     "output_type": "stream",
     "text": [
      "initial: func\n",
      "changed qual: _T4.func\n",
      " \n",
      "using copy.copy: _T4.func\n",
      "using copy_func: func\n"
     ]
    }
   ],
   "source": [
    "def func(b: [float, int], a): \n",
    "    return None\n",
    "\n",
    "print(f'initial: {func.__qualname__}')\n",
    "func.__qualname__ = '_T4.func'\n",
    "print(f'changed qual: {func.__qualname__}')\n",
    "print(' ')\n",
    "func_b = copy(func)\n",
    "func_b_ = copy_func(func)\n",
    "print(f'using copy.copy: {func_b.__qualname__}') #copy doesn't reset it\n",
    "print(f'using copy_func: {func_b_.__qualname__}') # copy func reset it"
   ]
  },
  {
   "cell_type": "markdown",
   "metadata": {},
   "source": [
    "The trick to patching successfully is to chang the `__name__` of the func from `func_name` to the be `class_name.func_name` instead"
   ]
  },
  {
   "cell_type": "code",
   "execution_count": 35,
   "metadata": {},
   "outputs": [],
   "source": [
    "#export\n",
    "# this decorator (notice the wrapper _inner) is used to add a new method to a predefined class or list of classes either \n",
    "# as a normal method classmethod or as a cls property\n",
    "def patch_to(cls, as_prop=False, cls_method=False):\n",
    "    \"Decorator: add `f` to `cls`\"\n",
    "#     make sure it is a collection so we can loop over it\n",
    "    if not isinstance(cls, (tuple,list)): cls=(cls,)\n",
    "    def _inner(f):\n",
    "        for c_ in cls:\n",
    "#             create a copy of the func to be patched\n",
    "            nf = copy_func(f)\n",
    "\n",
    "            # `functools.update_wrapper` when passing patched function to `Pipeline`, so we do it manually\n",
    "#             this is to update the info of the func `f` being wrapped so it won't be overridden by the wrapper\n",
    "#             for o in functools.WRAPPER_ASSIGNMENTS: setattr(nf, o, getattr(f,o)) Jeremy style(from scratch method)\n",
    "#             OR\n",
    "            functools.update_wrapper(_inner, f) #Tendo style(pythonic style)\n",
    "#           Note the reason why I'm not using a decorator @functools.wraps is because i don't have an _inner_inner \n",
    "#           func inside here. When patching we dont want the func to be called, we just want to pass it into the class as a method\n",
    "            \n",
    "#          This may be the most important bit, it sets the copy of the func being pathed `nf` as a method to the class `c_`4\n",
    "#          Note: this isn't set to the main method because we may want to set the `f` as a class method or something else as shown below\n",
    "            nf.__qualname__ = f\"{c_.__name__}.{f.__name__}\"\n",
    "    \n",
    "#             If we want this patched class to be a classmethod, We set the c.f.__name__ = method_bound(c_.nf)\n",
    "            if cls_method:\n",
    "                setattr(c_, f.__name__, MethodType(nf, c_))\n",
    "            else:\n",
    "                setattr(c_, f.__name__, property(nf) if as_prop else nf)\n",
    "        return f\n",
    "    return _inner"
   ]
  },
  {
   "cell_type": "code",
   "execution_count": 36,
   "metadata": {},
   "outputs": [],
   "source": [
    "class _T3(int): pass\n",
    "\n",
    "@patch_to(_T3)\n",
    "def func1(x, a): return x+a\n",
    "\n",
    "@patch_to(_T3, cls_method=True)\n",
    "def from_func2(cls, a): return cls(a)\n",
    "\n",
    "t = _T3(1) #reason we can do this is because we are using int's __init__\n",
    "test_eq(t.func1(2), 3)\n",
    "\n",
    "t2 = _T3(2)\n",
    "test_eq(t2, 2)"
   ]
  },
  {
   "cell_type": "code",
   "execution_count": 37,
   "metadata": {},
   "outputs": [],
   "source": [
    "_T3.from_func2(2) #A class method can be called without instantiating the method\n",
    "\n",
    "#Tendo test\n",
    "test_eq(_T3.from_func2(2), 2)"
   ]
  },
  {
   "cell_type": "markdown",
   "metadata": {},
   "source": [
    "If `cls` is a tuple, `f` is added to all types in the tuple."
   ]
  },
  {
   "cell_type": "code",
   "execution_count": 38,
   "metadata": {},
   "outputs": [],
   "source": [
    "class _T4(int): pass\n",
    "@patch_to((_T3,_T4))\n",
    "def func2(x, a): return x+2*a\n",
    "\n",
    "t = _T3(1)\n",
    "test_eq(t.func2(1), 3)\n",
    "t = _T4(1)\n",
    "test_eq(t.func2(1), 3)"
   ]
  },
  {
   "cell_type": "code",
   "execution_count": 39,
   "metadata": {
    "scrolled": true
   },
   "outputs": [
    {
     "name": "stdout",
     "output_type": "stream",
     "text": [
      "{'a': [<class 'float'>, <class 'int'>], 'b': <class 'float'>}\n"
     ]
    },
    {
     "data": {
      "text/plain": [
       "[float, int]"
      ]
     },
     "execution_count": 39,
     "metadata": {},
     "output_type": "execute_result"
    }
   ],
   "source": [
    "def h(a: [float, int], b:float): ...\n",
    "print(h.__annotations__) # the annotations for every annotated func are stored in dunder annotations\n",
    "next(iter(h.__annotations__.values())) # we only want to annotation of the very first arg"
   ]
  },
  {
   "cell_type": "code",
   "execution_count": 40,
   "metadata": {},
   "outputs": [],
   "source": [
    "# This decorator uses `patch_to` to patch a func to a class which is based on the annotation of the \n",
    "# very first param of the func \n",
    "#export\n",
    "def patch(f):\n",
    "    \"Decorator: add `f` to the first parameter's class (based on f's type annotations)\"\n",
    "    cls = next(iter(f.__annotations__.values())) # only the first param's/arg's type\n",
    "    return patch_to(cls)(f)"
   ]
  },
  {
   "cell_type": "code",
   "execution_count": 41,
   "metadata": {},
   "outputs": [],
   "source": [
    "@patch\n",
    "def func(x:_T3, a):\n",
    "    \"test\"\n",
    "    return x+a\n",
    "\n",
    "t = _T3(1)\n",
    "test_eq(t.func(3), 4)\n",
    "test_eq(t.func.__qualname__, '_T3.func')"
   ]
  },
  {
   "cell_type": "markdown",
   "metadata": {},
   "source": [
    "If annotation is a tuple, the function is added to all types in the tuple."
   ]
  },
  {
   "cell_type": "code",
   "execution_count": 42,
   "metadata": {},
   "outputs": [],
   "source": [
    "@patch\n",
    "def func3(x:(_T3,_T4), a):\n",
    "    \"test\"\n",
    "    return x+2*a"
   ]
  },
  {
   "cell_type": "code",
   "execution_count": 43,
   "metadata": {},
   "outputs": [],
   "source": [
    "@patch\n",
    "def func3(x:(_T3,_T4), a):\n",
    "    \"test\"\n",
    "    return x+2*a\n",
    "\n",
    "t = _T3(1)\n",
    "test_eq(t.func3(2), 5)\n",
    "test_eq(t.func3.__qualname__, '_T3.func3')\n",
    "t = _T4(1)\n",
    "test_eq(t.func3(2), 5)\n",
    "test_eq(t.func3.__qualname__, '_T4.func3')"
   ]
  },
  {
   "cell_type": "code",
   "execution_count": 44,
   "metadata": {},
   "outputs": [],
   "source": [
    "# decorator used to patch a method to a class based on the type of it's first arg as a class property \n",
    "#export\n",
    "def patch_property(f):\n",
    "    \"Decorator: add `f` as a property to the first parameter's class (based on f's type annotations)\"\n",
    "    cls = next(iter(f.__annotations__.values()))\n",
    "    return patch_to(cls, as_prop=True)(f)"
   ]
  },
  {
   "cell_type": "code",
   "execution_count": 45,
   "metadata": {},
   "outputs": [],
   "source": [
    "@patch_property\n",
    "def prop(x:_T3): return x+1\n",
    "\n",
    "t = _T3(1)\n",
    "test_eq(t.prop, 2) # a class property is a method that behaves like an attribute in the class. If it has a setter it can be changed dynamically"
   ]
  },
  {
   "cell_type": "code",
   "execution_count": 46,
   "metadata": {},
   "outputs": [
    {
     "data": {
      "text/plain": [
       "<Parameter \"key='value'\">"
      ]
     },
     "execution_count": 46,
     "metadata": {},
     "output_type": "execute_result"
    }
   ],
   "source": [
    "# how to make a func param/arg\n",
    "inspect.Parameter('key', inspect.Parameter.KEYWORD_ONLY, default='value')"
   ]
  },
  {
   "cell_type": "code",
   "execution_count": 47,
   "metadata": {},
   "outputs": [],
   "source": [
    "# this is used to make a func kwargs(key:value) param that has a default key-value of d(None) \n",
    "#export\n",
    "def _mk_param(n,d=None): return inspect.Parameter(n, inspect.Parameter.KEYWORD_ONLY, default=d)"
   ]
  },
  {
   "cell_type": "code",
   "execution_count": 48,
   "metadata": {},
   "outputs": [
    {
     "data": {
      "text/plain": [
       "(<Signature (mad='mad')>, \"(mad='mad')\")"
      ]
     },
     "execution_count": 48,
     "metadata": {},
     "output_type": "execute_result"
    }
   ],
   "source": [
    "# representation of the params in a function\n",
    "inspect.signature(f), str(inspect.signature(f))"
   ]
  },
  {
   "cell_type": "code",
   "execution_count": 49,
   "metadata": {},
   "outputs": [
    {
     "data": {
      "text/plain": [
       "(mappingproxy({'mad': <Parameter \"mad='mad'\">}),\n",
       " {'mad': <Parameter \"mad='mad'\">},\n",
       " <Parameter \"new_param='Hello'\">)"
      ]
     },
     "execution_count": 49,
     "metadata": {},
     "output_type": "execute_result"
    }
   ],
   "source": [
    "# get the parameter dict or mapping proxy\n",
    "inspect.signature(f).parameters, dict(inspect.signature(f).parameters), _mk_param('new_param', 'Hello')"
   ]
  },
  {
   "cell_type": "code",
   "execution_count": 50,
   "metadata": {},
   "outputs": [],
   "source": [
    "# test to make sure func signatures match\n",
    "def test_sig(f, b): test_eq(str(inspect.signature(f)), b)"
   ]
  },
  {
   "cell_type": "code",
   "execution_count": 51,
   "metadata": {},
   "outputs": [],
   "source": [
    "# a decorator that allows us to use *kwargs while writing our function ans ensuring that autocomplete works becuase it saves \n",
    "# the signatures of the kwargs to the func's signature\n",
    "#export\n",
    "def use_kwargs_dict(keep=False, **kwargs):\n",
    "    \"Decorator: replace `**kwargs` in signature with `names` params\"\n",
    "    def _f(f):\n",
    "#         obtain the Parameter signature\n",
    "        sig = inspect.signature(f)\n",
    "#         change this signature to a dict (mapping proxy) and then change it to a normal dict\n",
    "        sigd = dict(sig.parameters)\n",
    "#     remove the kwargs param from the dict\n",
    "        k = sigd.pop('kwargs')\n",
    "#     make new params using the key-value pairs passed into the decorator. Ensure that there is no key clash with the keys \n",
    "#     already existing in the func\n",
    "        s2 = {n:_mk_param(n,d) for n,d in kwargs.items() if n not in sigd}\n",
    "#     update the the signature dict of the function with these new Param key-value pairs\n",
    "        sigd.update(s2)\n",
    "        if keep: sigd['kwargs'] = k\n",
    "#       replace the signature of the func\n",
    "        f.__signature__ = sig.replace(parameters=sigd.values())\n",
    "        return f\n",
    "    return _f"
   ]
  },
  {
   "cell_type": "code",
   "execution_count": 52,
   "metadata": {},
   "outputs": [],
   "source": [
    "@use_kwargs_dict(y=1,z=None)\n",
    "def foo(a, b=1, **kwargs): pass\n",
    "test_sig(foo, '(a, b=1, *, y=1, z=None)')"
   ]
  },
  {
   "cell_type": "code",
   "execution_count": 53,
   "metadata": {},
   "outputs": [],
   "source": [
    "#this decorator is different from `use_kwargs_dict` because attaches non keyword args to the func signature dict\n",
    "#export\n",
    "def use_kwargs(names, keep=False):\n",
    "    \"Decorator: replace `**kwargs` in signature with `names` params\"\n",
    "    def _f(f):\n",
    "        sig = inspect.signature(f)\n",
    "        sigd = dict(sig.parameters)\n",
    "        k = sigd.pop('kwargs')\n",
    "        s2 = {n:_mk_param(n) for n in names if n not in sigd}  #<---this is the different bit. the default value `d` of None is used\n",
    "        sigd.update(s2)\n",
    "        if keep: sigd['kwargs'] = k\n",
    "        f.__signature__ = sig.replace(parameters=sigd.values())\n",
    "        return f\n",
    "    return _f"
   ]
  },
  {
   "cell_type": "code",
   "execution_count": 54,
   "metadata": {},
   "outputs": [],
   "source": [
    "@use_kwargs(['y', 'z'])\n",
    "def foo(a, b=1, **kwargs): pass\n",
    "test_sig(foo, '(a, b=1, *, y=None, z=None)')\n",
    "\n",
    "@use_kwargs(['y', 'z'], keep=True)\n",
    "def foo(a, *args, b=1, **kwargs): pass\n",
    "test_sig(foo, '(a, *args, b=1, y=None, z=None, **kwargs)')"
   ]
  },
  {
   "cell_type": "code",
   "execution_count": 55,
   "metadata": {},
   "outputs": [],
   "source": [
    "#extra test Tendo\n",
    "@use_kwargs_dict(y_=1, z_=2)\n",
    "@use_kwargs(['y', 'z'], keep=True)\n",
    "def foo(a, b=1, **kwargs): pass\n",
    "\n",
    "test_sig(foo, '(a, b=1, *, y=None, z=None, y_=1, z_=2)')\n",
    "\n",
    "class Foo:\n",
    "    def __init__(self): return None\n",
    "    \n",
    "    @classmethod\n",
    "    @use_kwargs_dict(y=1, z=3)\n",
    "    def say(self, b, c=9, **kwargs): None\n",
    "        \n",
    "test_sig(Foo.say, '(b, c=9, *, y=1, z=3)')"
   ]
  },
  {
   "cell_type": "code",
   "execution_count": 56,
   "metadata": {},
   "outputs": [],
   "source": [
    "# this decorator is used to transfer signature from one func `f` to another `to`. \n",
    "# This helps us with autocompletion when we a superclassing classes and using `**kwargs`\n",
    "# It can be nested and you can also select the arg signatures to transfer\n",
    "# export\n",
    "def delegates(to=None, keep=False, but=None):\n",
    "    \"Decorator: replace `**kwargs` in signature with params from `to`\"\n",
    "    if but is None: but = []\n",
    "    def _f(f):\n",
    "#         if you're trying to delegate from one class to another. what you need to delegate is the classes' `__init__`\n",
    "#        NOTE: in this case you don't pass arguments to the the class being delegated to\n",
    "        if to is None: to_f,from_f = f.__base__.__init__,f.__init__\n",
    "        else:          to_f,from_f = to,f\n",
    "        from_f = getattr(from_f,'__func__',from_f)\n",
    "        to_f = getattr(to_f,'__func__',to_f)\n",
    "#         `__delwrap__` is a flag to prevent multiple nesting of delegates. If it occurs, break out\n",
    "        if hasattr(from_f,'__delwrap__'): return f\n",
    "        sig = inspect.signature(from_f)\n",
    "        sigd = dict(sig.parameters)\n",
    "        k = sigd.pop('kwargs')\n",
    "#         ensure that the no value from the key-value kwargs are empty(not set) and that the key is not in `but` which \n",
    "#         should be excluded from delegation\n",
    "        s2 = {k:v for k,v in inspect.signature(to_f).parameters.items()\n",
    "              if v.default != inspect.Parameter.empty and k not in sigd and k not in but}\n",
    "#       update the signatures\n",
    "        sigd.update(s2)\n",
    "#         this if else loop is present because inorder for us to use nested delegates, there has to be \n",
    "#         a **kwargs(ie the `keep` must be set to True)\n",
    "        if keep: sigd['kwargs'] = k\n",
    "#         if no keep don't allow nesting; set the flag\n",
    "        else: from_f.__delwrap__ = to_f\n",
    "#         replace them\n",
    "        from_f.__signature__ = sig.replace(parameters=sigd.values())\n",
    "#       since no copying was done from `f` to `from_f` we may as well return `from_f` here if we are not delegating inside a class\n",
    "        return f\n",
    "    return _f"
   ]
  },
  {
   "cell_type": "code",
   "execution_count": 57,
   "metadata": {},
   "outputs": [],
   "source": [
    "def basefoo(e, c=2): pass\n",
    "\n",
    "@delegates(basefoo) # delegate all key:value pairs from basefoo to foo\n",
    "def foo(a, b=1, **kwargs): pass\n",
    "test_sig(foo, '(a, b=1, c=2)')\n",
    "\n",
    "@delegates(basefoo, keep=True)\n",
    "def foo(a, b=1, **kwargs): pass\n",
    "test_sig(foo, '(a, b=1, c=2, **kwargs)')\n",
    "\n",
    "\n",
    "@delegates(basefoo, but= ['c']) # delegate all args but c\n",
    "def foo(a, b=1, **kwargs): pass\n",
    "test_sig(foo, '(a, b=1)')\n",
    "\n",
    "class _T():\n",
    "    def foo(cls, a=1, b=2):\n",
    "        pass\n",
    "    \n",
    "    @classmethod\n",
    "    @delegates(foo)\n",
    "    def bar(cls, c=3, **kwargs):\n",
    "        pass\n",
    "\n",
    "test_sig(_T.bar, '(c=3, a=1, b=2)')"
   ]
  },
  {
   "cell_type": "code",
   "execution_count": 58,
   "metadata": {},
   "outputs": [],
   "source": [
    "class BaseFoo:\n",
    "    def __init__(self, c, d=2, e=3): pass  #note only kwargs are delegated\n",
    "\n",
    "@delegates() #note that i have no args\n",
    "class Foo(BaseFoo): # this super class we want to delagate from must be inherited\n",
    "    def __init__(self, a, b=1, **kwargs): super().__init__(**kwargs)\n",
    "\n",
    "test_sig(Foo, '(a, b=1, d=2, e=3)')"
   ]
  },
  {
   "cell_type": "code",
   "execution_count": 59,
   "metadata": {},
   "outputs": [],
   "source": [
    "#tendo test (nested delegation)\n",
    "@delegates(BaseFoo.__init__)\n",
    "@delegates(basefoo, keep=True) #the kwargs must be kept while nesting\n",
    "def foo(a, b=1, **kwargs): pass\n",
    "\n",
    "test_sig(foo, '(a, b=1, c=2, d=2, e=3)')"
   ]
  },
  {
   "cell_type": "code",
   "execution_count": 60,
   "metadata": {},
   "outputs": [
    {
     "data": {
      "text/plain": [
       "<bound method foo of 1>"
      ]
     },
     "execution_count": 60,
     "metadata": {},
     "output_type": "execute_result"
    }
   ],
   "source": [
    "MethodType(foo, 1)"
   ]
  },
  {
   "cell_type": "code",
   "execution_count": 61,
   "metadata": {},
   "outputs": [
    {
     "name": "stdout",
     "output_type": "stream",
     "text": [
      "False\n",
      "True\n",
      "True\n"
     ]
    }
   ],
   "source": [
    "print(isinstance(_T.foo,MethodType))\n",
    "print(isinstance(_T.bar,MethodType))\n",
    "print(isinstance(MethodType(foo, 1),MethodType))"
   ]
  },
  {
   "cell_type": "code",
   "execution_count": 62,
   "metadata": {},
   "outputs": [],
   "source": [
    "# bind method foo to the class 1 (#numbers.Integral)\n",
    "#export\n",
    "def method(f):\n",
    "    \"Mark `f` as a method\"\n",
    "    # `1` is a dummy instance since Py3 doesn't allow `None` any more\n",
    "    return MethodType(f, 1)"
   ]
  },
  {
   "cell_type": "code",
   "execution_count": 63,
   "metadata": {},
   "outputs": [
    {
     "data": {
      "text/plain": [
       "('3', {'r': '3', 'w': '6'})"
      ]
     },
     "execution_count": 63,
     "metadata": {},
     "output_type": "execute_result"
    }
   ],
   "source": [
    "g = {'r': '3', 'w': '6'}\n",
    "g.pop('f', '3'), g"
   ]
  },
  {
   "cell_type": "code",
   "execution_count": 64,
   "metadata": {},
   "outputs": [],
   "source": [
    "#this decorator makes it possible for us to replace a method in a class with any other function so long as the \n",
    "# method is in the `cls._methods` list of the class `cls` and the `cls.__init__` has `kwargs`\n",
    "#export\n",
    "def _funcs_kwargs(cls, as_method):\n",
    "    old_init = cls.__init__\n",
    "    def _init(self, *args, **kwargs):\n",
    "        for k in cls._methods:\n",
    "#             if the method in cls._methods is in the `kwargs` of the instantiated class select the value of the kwargs (ie the new method)\n",
    "            arg = kwargs.pop(k,None) #it returns None if it cannot find the key in the kwargs dict\n",
    "            if arg is not None:\n",
    "#                 do you want the func to be replaced to be a normal method and not a class method?\n",
    "                if as_method: arg = method(arg)\n",
    "#               if the method we want to replace with is a classmethod from another class, change to become \n",
    "#               a class method of the present class by binding it to the present class using `MethodType`\n",
    "                if isinstance(arg,MethodType): arg = MethodType(arg.__func__, self)\n",
    "#                 change the method in the class with this new method or classmethod\n",
    "                setattr(self, k, arg)\n",
    "#         set the signature if the present class init\n",
    "        old_init(self, *args, **kwargs)\n",
    "#     update the signature of the present init to prevent what happens with decorators and signatures\n",
    "    functools.update_wrapper(_init, old_init)\n",
    "#   set all the cls._methods to be kwargs with value of None so that we can pass all into signature\n",
    "    cls.__init__ = use_kwargs(cls._methods)(_init)\n",
    "    if hasattr(cls, '__signature__'): cls.__signature__ = _rm_self(inspect.signature(cls.__init__))\n",
    "    return cls"
   ]
  },
  {
   "cell_type": "code",
   "execution_count": 65,
   "metadata": {},
   "outputs": [],
   "source": [
    "#export\n",
    "def funcs_kwargs(as_method=False):\n",
    "    \"Replace methods in `cls._methods` with those from `kwargs`\"\n",
    "    if callable(as_method): return _funcs_kwargs(as_method, False)\n",
    "#     we have a closure so it is a decorator\n",
    "    return partial(_funcs_kwargs, as_method=as_method)"
   ]
  },
  {
   "cell_type": "code",
   "execution_count": 66,
   "metadata": {},
   "outputs": [],
   "source": [
    "#tendo test\n",
    "\n",
    "class New():\n",
    "    def a(self):\n",
    "        return 'I am the replacer from func a'\n",
    "    \n",
    "    @classmethod\n",
    "    def b(self, a, **kwargs):\n",
    "        return 'I am the replacer from func b'\n",
    "\n",
    "@funcs_kwargs(as_method=True)\n",
    "class _F():\n",
    "    _methods=['bar']\n",
    "    def __init__(self, **kwargs): assert not kwargs\n",
    "    \n",
    "    def foo(cls, a=1, b=2):\n",
    "        return 'Hi'\n",
    "    \n",
    "#     @classmethod\n",
    "#     def bar(cls, c=3, **kwargs):\n",
    "#         return 'Hello'\n",
    "        \n",
    "def lambda_(a): return 'i am the replacer lambda_'\n",
    "\n",
    "f = _F()\n",
    "# print(f'Initial f.bar:    {f.bar().upper()}')\n",
    "f = _F(bar = lambda_) #normal func replacement\n",
    "\n",
    "test_eq(f.bar(), 'i am the replacer lambda_')\n",
    "\n",
    "\n",
    "f = _F()\n",
    "# print(f'Initial f.bar:    {f.bar().upper()}')\n",
    "f = _F(bar = New.b) #classmethod replacement\n",
    "\n",
    "test_eq(f.bar(), 'I am the replacer from func b')\n"
   ]
  },
  {
   "cell_type": "code",
   "execution_count": 78,
   "metadata": {},
   "outputs": [],
   "source": [
    "@funcs_kwargs\n",
    "class T:\n",
    "    _methods=['b']\n",
    "    def __init__(self, f=1, **kwargs): assert not kwargs\n",
    "    def a(self): return 1\n",
    "    def b(self): return 2\n",
    "    \n",
    "t = T()\n",
    "test_eq(t.a(), 1)\n",
    "test_eq(t.b(), 2)\n",
    "t = T(b = lambda:3)\n",
    "test_eq(t.b(), 3)\n",
    "# so long as the method is in `_methods`, it'll have a default value of None when you check the class's signature thus overriding the class' __init__ args\n",
    "test_sig(T, '(f=1, *, b=None)') #the b=None happens due to the `use_kwargs` that was called in `_funcs_kwargs`\n",
    "test_fail(lambda: T(a = lambda:3)) # a is not in T._methods\n",
    "\n",
    "def _f(self,a=1): return a+1\n",
    "\n",
    "@funcs_kwargs(True)\n",
    "class T: _methods=['b']\n",
    "t = T(b = _f)\n",
    "test_eq(t.b(2), 3)\n",
    "\n",
    "class T2(T):\n",
    "    def __init__(self,a):\n",
    "        super().__init__(b = lambda self:3) #calling super on `T` should override the `b` which was added to the `T` class by `func_kwargs`\n",
    "        self.a=a\n",
    "t = T2(a=1)\n",
    "test_eq(t.b(), 3)\n",
    "test_sig(T2, '(a)') #We have `T2`'s normal signature which is expected\n",
    "\n",
    "def _g(a=1): return a+1\n",
    "class T3(T): b = staticmethod(_g) #funcs_kwargs can be used to override staticmethods also (static methods by default aren't bound to the class)\n",
    "t = T3()\n",
    "test_eq(t.b(2), 3)"
   ]
  },
  {
   "cell_type": "code",
   "execution_count": null,
   "metadata": {},
   "outputs": [],
   "source": [
    "#hide\n",
    "#test it works with PrePostInitMeta\n",
    "class A(metaclass=PrePostInitMeta): pass\n",
    "\n",
    "@funcs_kwargs\n",
    "class B(A):\n",
    "    _methods = ['m1']\n",
    "    def __init__(self, **kwargs): pass\n",
    "    \n",
    "test_sig(B, '(*, m1=None)')"
   ]
  },
  {
   "cell_type": "markdown",
   "metadata": {},
   "source": [
    "Runtime type checking is handy, so let's make it easy!"
   ]
  },
  {
   "cell_type": "code",
   "execution_count": null,
   "metadata": {},
   "outputs": [],
   "source": [
    "@contextmanager\n",
    "def working_directory(path):\n",
    "    \"Change working directory to `path` and return to previous on exit.\"\n",
    "    prev_cwd = Path.cwd()\n",
    "    os.chdir(path)\n",
    "    try: yield\n",
    "    finally: os.chdir(prev_cwd)"
   ]
  },
  {
   "cell_type": "code",
   "execution_count": null,
   "metadata": {},
   "outputs": [],
   "source": [
    "#def is_listy(x): return isinstance(x,(list,tuple,Generator))"
   ]
  },
  {
   "cell_type": "code",
   "execution_count": 98,
   "metadata": {},
   "outputs": [
    {
     "data": {
      "text/plain": [
       "<function __main__.T.a>"
      ]
     },
     "execution_count": 98,
     "metadata": {},
     "output_type": "execute_result"
    }
   ],
   "source": [
    "class T:\n",
    "    _methods=['b']\n",
    "    def __init__(self, f=1, **kwargs): assert not kwargs\n",
    "    @classmethod\n",
    "    def a(self, v=8): return 1\n",
    "    def b(self): return 2\n",
    "    \n",
    "vars(T)['a'].__func__"
   ]
  },
  {
   "cell_type": "code",
   "execution_count": 75,
   "metadata": {},
   "outputs": [],
   "source": [
    "# this func ensures that a class and all it's public methods are properly documented\n",
    "#export\n",
    "def add_docs(cls, cls_doc=None, **docs):\n",
    "    \"Copy values from `docs` to `cls` docstrings, and confirm all public methods are documented\"\n",
    "    if cls_doc is not None: cls.__doc__ = cls_doc\n",
    "#     the `**docs` arg contains key-value pairs for method_name:method\n",
    "    for k,v in docs.items():\n",
    "#         get the method in the class from it's name\n",
    "        f = getattr(cls,k)\n",
    "#     check if the method has a __func__ attr if not, set it \n",
    "        if hasattr(f,'__func__'): f = f.__func__ # required for class methods\n",
    "        f.__doc__ = v\n",
    "        \n",
    "#     check for methods/callables in the class's namespace that aren't inner methods(ie don't start with '_') \n",
    "#     and do not have docs(ie no `__doc__` attr) and list them\n",
    "    # List of public callables without docstring\n",
    "    nodoc = [c for n,c in vars(cls).items() if callable(c)\n",
    "             and not n.startswith('_') and c.__doc__ is None]\n",
    "#     if there is a callable without docs, raise an exception showing that callable\n",
    "    assert not nodoc, f\"Missing docs: {nodoc}\"\n",
    "#     if the cls has a `__doc__` but is None or empty raise an exception showing that the class has no doc\n",
    "    assert cls.__doc__ is not None, f\"Missing class docs: {cls}\""
   ]
  },
  {
   "cell_type": "code",
   "execution_count": 100,
   "metadata": {},
   "outputs": [],
   "source": [
    "#export\n",
    "def docs(cls):\n",
    "    \"Decorator version of `add_docs`, using `_docs` dict\"\n",
    "    add_docs(cls, **cls._docs)\n",
    "    return cls"
   ]
  },
  {
   "cell_type": "code",
   "execution_count": 105,
   "metadata": {},
   "outputs": [],
   "source": [
    "class _T:\n",
    "    def f(self): pass\n",
    "    @classmethod\n",
    "    def g(cls): pass\n",
    "add_docs(_T, cls_doc=\"a\", f=\"f\", g=\"g\") #specify the docs as kwargs\n",
    "\n",
    "test_eq(_T.__doc__, \"a\")\n",
    "test_eq(_T.f.__doc__, \"f\")\n",
    "test_eq(_T.g.__doc__, \"g\")"
   ]
  },
  {
   "cell_type": "code",
   "execution_count": 111,
   "metadata": {},
   "outputs": [],
   "source": [
    "# Tendo test\n",
    "@docs\n",
    "class _T:\n",
    "    _docs = {'cls_doc':'a', 'f':'f', 'g':'g'} #specify the doc as a dict\n",
    "    def f(self): pass\n",
    "    @classmethod\n",
    "    def g(cls): pass\n",
    "# everything now has a doc\n",
    "test_eq(_T.__doc__, \"a\")\n",
    "test_eq(_T.f.__doc__, \"f\")\n",
    "test_eq(_T.g.__doc__, \"g\")"
   ]
  },
  {
   "cell_type": "code",
   "execution_count": 114,
   "metadata": {},
   "outputs": [
    {
     "data": {
      "text/markdown": [
       "<h4 id=\"is_iter\" class=\"doc_header\"><code>is_iter</code><a href=\"https://github.com/fastai/fastcore/tree/master/fastcore/imports.py#L37\" class=\"source_link\" style=\"float:right\">[source]</a></h4>\n",
       "\n",
       "> <code>is_iter</code>(**`o`**)\n",
       "\n",
       "Test whether `o` can be used in a `for` loop"
      ],
      "text/plain": [
       "<IPython.core.display.Markdown object>"
      ]
     },
     "metadata": {},
     "output_type": "display_data"
    }
   ],
   "source": [
    "show_doc(is_iter) # `show_doc` is a n nbdev method"
   ]
  },
  {
   "cell_type": "code",
   "execution_count": null,
   "metadata": {},
   "outputs": [],
   "source": [
    "assert is_iter([1])\n",
    "assert not is_iter(array(1))\n",
    "assert is_iter(array([1,2]))\n",
    "assert (o for o in range(3))"
   ]
  },
  {
   "cell_type": "code",
   "execution_count": 136,
   "metadata": {},
   "outputs": [],
   "source": [
    "#export\n",
    "class _Arg:\n",
    "    def __init__(self,i): self.i = i\n",
    "arg0 = _Arg(0)\n",
    "arg1 = _Arg(1)\n",
    "arg2 = _Arg(2)\n",
    "arg3 = _Arg(3)\n",
    "arg4 = _Arg(4)"
   ]
  },
  {
   "cell_type": "code",
   "execution_count": 132,
   "metadata": {},
   "outputs": [],
   "source": [
    "partial??"
   ]
  },
  {
   "cell_type": "code",
   "execution_count": 179,
   "metadata": {},
   "outputs": [],
   "source": [
    "#export\n",
    "class bind:\n",
    "    \"Same as `partial`, except you can use `arg0` `arg1` etc param placeholders\"\n",
    "    def __init__(self, fn, *pargs, **pkwargs):\n",
    "        self.fn,self.pargs,self.pkwargs = fn,pargs,pkwargs\n",
    "        self.maxi = max((x.i for x in pargs if isinstance(x, _Arg)), default=-1)\n",
    "\n",
    "    def __call__(self, *args, **kwargs):\n",
    "        args = list(args)\n",
    "        kwargs = {**self.pkwargs,**kwargs} #what is the purpose of kwargs tendo asks...doesnt't seem to do anything\n",
    "        for k,v in kwargs.items():\n",
    "            if isinstance(v,_Arg): kwargs[k] = args.pop(v.i)\n",
    "        fargs = [args[x.i] if isinstance(x, _Arg) else x for x in self.pargs] + args[self.maxi+1:]\n",
    "        return self.fn(*fargs, **kwargs)"
   ]
  },
  {
   "cell_type": "code",
   "execution_count": 180,
   "metadata": {},
   "outputs": [],
   "source": [
    "def myfn(a,b,c,d=1,e=2): return(a,b,c,d,e)\n",
    "test_eq(bind(myfn, arg1, 17, arg0, e=3)(19,14), (14,17,19,1,3))\n",
    "test_eq(bind(myfn, 17, arg0, e=3)(19,14), (17,19,14,1,3))\n",
    "test_eq(bind(myfn, 17, e=3)(19,14), (17,19,14,1,3))\n",
    "test_eq(bind(myfn)(17,19,14), (17,19,14,1,2))\n",
    "test_eq(bind(myfn, 17,19,14,e=arg0)(3), (17,19,14,1,3))"
   ]
  },
  {
   "cell_type": "markdown",
   "metadata": {},
   "source": [
    "## GetAttr -"
   ]
  },
  {
   "cell_type": "code",
   "execution_count": null,
   "metadata": {},
   "outputs": [],
   "source": [
    "#export\n",
    "def custom_dir(c, add:list):\n",
    "    \"Implement custom `__dir__`, adding `add` to `cls`\"\n",
    "    return dir(type(c)) + list(c.__dict__.keys()) + add"
   ]
  },
  {
   "cell_type": "code",
   "execution_count": null,
   "metadata": {},
   "outputs": [],
   "source": [
    "#export\n",
    "class GetAttr:\n",
    "    \"Inherit from this to have all attr accesses in `self._xtra` passed down to `self.default`\"\n",
    "    _default='default'\n",
    "    def _component_attr_filter(self,k):\n",
    "        if k.startswith('__') or k in ('_xtra',self._default): return False\n",
    "        xtra = getattr(self,'_xtra',None)\n",
    "        return xtra is None or k in xtra\n",
    "    def _dir(self): return [k for k in dir(getattr(self,self._default)) if self._component_attr_filter(k)]\n",
    "    def __getattr__(self,k):\n",
    "        if self._component_attr_filter(k):\n",
    "            attr = getattr(self,self._default,None)\n",
    "            if attr is not None: return getattr(attr,k)\n",
    "        raise AttributeError(k)\n",
    "    def __dir__(self): return custom_dir(self,self._dir())\n",
    "#     def __getstate__(self): return self.__dict__\n",
    "    def __setstate__(self,data): self.__dict__.update(data)"
   ]
  },
  {
   "cell_type": "markdown",
   "metadata": {},
   "source": [
    "Inherit from `GetAttr` to have attr access passed down to an instance attribute. \n",
    "This makes it easy to create composites that don't require callers to know about their components.\n",
    "\n",
    "You can customise the behaviour of `GetAttr` in subclasses via;\n",
    "- `_default`\n",
    "    - By default, this is set to `'default'`, so attr access is passed down to `self.default`\n",
    "    - `_default` can be set to the name of any instance attribute that does not start with dunder `__`\n",
    "- `_xtra`\n",
    "    - By default, this is `None`, so all attr access is passed down\n",
    "    - You can limit which attrs get passed down by setting `_xtra` to a list of attribute names"
   ]
  },
  {
   "cell_type": "code",
   "execution_count": null,
   "metadata": {},
   "outputs": [],
   "source": [
    "class _C(GetAttr):\n",
    "    # allow all attributes to get passed to `self.default` (by leaving _xtra=None)\n",
    "    def __init__(self,a): self.default = a\n",
    "    def foo(self): noop\n",
    "\n",
    "t = _C('Hi')\n",
    "test_eq(t.lower(), 'hi')\n",
    "test_eq(t.upper(), 'HI')\n",
    "assert 'lower' in dir(t)\n",
    "assert 'upper' in dir(t)"
   ]
  },
  {
   "cell_type": "code",
   "execution_count": null,
   "metadata": {},
   "outputs": [],
   "source": [
    "class _C(GetAttr):\n",
    "    _xtra = ['lower'] # specify which attributes get passed to `self.default`\n",
    "    def __init__(self,a): self.default = a\n",
    "    def foo(self): noop\n",
    "\n",
    "t = _C('Hi')\n",
    "test_eq(t.default, 'Hi')\n",
    "test_eq(t.lower(), 'hi')\n",
    "test_fail(lambda: t.upper())\n",
    "assert 'lower' in dir(t)\n",
    "assert 'upper' not in dir(t)"
   ]
  },
  {
   "cell_type": "code",
   "execution_count": null,
   "metadata": {},
   "outputs": [],
   "source": [
    "class _C(GetAttr):\n",
    "    _default = '_data' # use different component name; `self._data` rather than `self.default`\n",
    "    def __init__(self,a): self._data = a\n",
    "    def foo(self): noop\n",
    "\n",
    "t = _C('Hi')\n",
    "test_eq(t._data, 'Hi')\n",
    "test_eq(t.lower(), 'hi')\n",
    "test_eq(t.upper(), 'HI')\n",
    "assert 'lower' in dir(t)\n",
    "assert 'upper' in dir(t)"
   ]
  },
  {
   "cell_type": "code",
   "execution_count": null,
   "metadata": {},
   "outputs": [],
   "source": [
    "class _C(GetAttr):\n",
    "    _default = 'data' # use a bad component name; i.e. self.data does not exist\n",
    "    def __init__(self,a): self.default = a\n",
    "    def foo(self): noop\n",
    "# TODO: should we raise an error when we create a new instance ...\n",
    "t = _C('Hi')\n",
    "test_eq(t.default, 'Hi')\n",
    "# ... or is it enough for all GetAttr features to raise errors\n",
    "test_fail(lambda: t.data)\n",
    "test_fail(lambda: t.lower())\n",
    "test_fail(lambda: t.upper())\n",
    "test_fail(lambda: dir(t))"
   ]
  },
  {
   "cell_type": "code",
   "execution_count": null,
   "metadata": {},
   "outputs": [],
   "source": [
    "#hide\n",
    "# I don't think this test is essential to the docs but it probably makes sense to\n",
    "# check that everything works when we set both _xtra and _default to non-default values\n",
    "class _C(GetAttr):\n",
    "    _xtra = ['lower', 'upper']\n",
    "    _default = 'data'\n",
    "    def __init__(self,a): self.data = a\n",
    "    def foo(self): noop\n",
    "\n",
    "t = _C('Hi')\n",
    "test_eq(t.data, 'Hi')\n",
    "test_eq(t.lower(), 'hi')\n",
    "test_eq(t.upper(), 'HI')\n",
    "assert 'lower' in dir(t)\n",
    "assert 'upper' in dir(t)"
   ]
  },
  {
   "cell_type": "code",
   "execution_count": null,
   "metadata": {},
   "outputs": [],
   "source": [
    "#hide\n",
    "#  when consolidating the filter logic, I choose the previous logic from \n",
    "# __getattr__  k.startswith('__') rather than\n",
    "# _dir         k.startswith('_'). \n",
    "class _C(GetAttr):\n",
    "    def __init__(self): self.default = type('_D', (), {'_under': 1, '__dunder': 2})() \n",
    "    \n",
    "t = _C()\n",
    "test_eq(t.default._under, 1)\n",
    "test_eq(t._under, 1)           # _ prefix attr access is allowed on component\n",
    "assert '_under' in dir(t)\n",
    "\n",
    "test_eq(t.default.__dunder, 2)\n",
    "test_fail(lambda: t.__dunder)  # __ prefix attr access is not allowed on component\n",
    "assert '__dunder' not in dir(t)\n",
    "\n",
    "assert t.__dir__ is not None   # __ prefix attr access is allowed on composite\n",
    "assert '__dir__' in dir(t)"
   ]
  },
  {
   "cell_type": "code",
   "execution_count": null,
   "metadata": {},
   "outputs": [],
   "source": [
    "class B:\n",
    "    def __init__(self): self.a = A()"
   ]
  },
  {
   "cell_type": "code",
   "execution_count": null,
   "metadata": {},
   "outputs": [],
   "source": [
    "@funcs_kwargs\n",
    "class A(GetAttr):\n",
    "    wif=after_iter= noops\n",
    "    _methods = 'wif after_iter'.split()\n",
    "    _default = 'dataset'\n",
    "    def __init__(self, **kwargs): pass"
   ]
  },
  {
   "cell_type": "code",
   "execution_count": null,
   "metadata": {},
   "outputs": [],
   "source": [
    "a = A()\n",
    "b = A(wif=a.wif)"
   ]
  },
  {
   "cell_type": "code",
   "execution_count": null,
   "metadata": {},
   "outputs": [],
   "source": [
    "#Failing test. TODO Jeremy, not sure what you were testing here\n",
    "#a = A()\n",
    "#b = A(wif=a.wif)\n",
    "#tst = pickle.dumps(b)\n",
    "#c = pickle.loads(tst)"
   ]
  },
  {
   "cell_type": "code",
   "execution_count": null,
   "metadata": {},
   "outputs": [],
   "source": [
    "#export\n",
    "def delegate_attr(self, k, to):\n",
    "    \"Use in `__getattr__` to delegate to attr `to` without inheriting from `GetAttr`\"\n",
    "    if k.startswith('_') or k==to: raise AttributeError(k)\n",
    "    try: return getattr(getattr(self,to), k)\n",
    "    except AttributeError: raise AttributeError(k) from None"
   ]
  },
  {
   "cell_type": "code",
   "execution_count": null,
   "metadata": {},
   "outputs": [],
   "source": [
    "class _C:\n",
    "    f = 'Hi'\n",
    "    def __getattr__(self, k): return delegate_attr(self, k, 'f')\n",
    "\n",
    "t = _C()\n",
    "test_eq(t.lower(), 'hi')"
   ]
  },
  {
   "cell_type": "markdown",
   "metadata": {},
   "source": [
    "## L -"
   ]
  },
  {
   "cell_type": "code",
   "execution_count": 395,
   "metadata": {},
   "outputs": [],
   "source": [
    "#export\n",
    "def _is_array(x): return hasattr(x,'__array__') or hasattr(x,'iloc')\n",
    "\n",
    "def _listify(o):\n",
    "    if o is None: return []\n",
    "    if isinstance(o, list): return o\n",
    "    if isinstance(o, str) or _is_array(o): return [o]\n",
    "    if is_iter(o): return list(o)\n",
    "    return [o]"
   ]
  },
  {
   "cell_type": "code",
   "execution_count": 396,
   "metadata": {},
   "outputs": [],
   "source": [
    "# export\n",
    "def coll_repr(c, max_n=10):\n",
    "    \"String repr of up to `max_n` items of (possibly lazy) collection `c`\"\n",
    "    return f'(#{len(c)}) [' + ','.join(itertools.islice(map(repr,c), max_n)) + (\n",
    "        '...' if len(c)>10 else '') + ']'"
   ]
  },
  {
   "cell_type": "code",
   "execution_count": 397,
   "metadata": {},
   "outputs": [],
   "source": [
    "test_eq(coll_repr(range(1000), 5), '(#1000) [0,1,2,3,4...]')"
   ]
  },
  {
   "cell_type": "code",
   "execution_count": 398,
   "metadata": {},
   "outputs": [],
   "source": [
    "# export\n",
    "def mask2idxs(mask):\n",
    "    \"Convert bool mask or index list to index `L`\"\n",
    "    if isinstance(mask,slice): return mask\n",
    "    mask = list(mask)\n",
    "    if len(mask)==0: return []\n",
    "    it = mask[0]\n",
    "    if hasattr(it,'item'): it = it.item()\n",
    "    if isinstance(it,(bool,NoneType,np.bool_)): return [i for i,m in enumerate(mask) if m]\n",
    "    return [int(i) for i in mask]"
   ]
  },
  {
   "cell_type": "code",
   "execution_count": 399,
   "metadata": {},
   "outputs": [],
   "source": [
    "# just for tests\n",
    "import torch"
   ]
  },
  {
   "cell_type": "code",
   "execution_count": 400,
   "metadata": {},
   "outputs": [],
   "source": [
    "test_eq(mask2idxs([False,True,False,True]), [1,3])\n",
    "test_eq(mask2idxs(array([False,True,False,True])), [1,3])\n",
    "test_eq(mask2idxs(torch.tensor([False,True,False,True])), [1,3])\n",
    "test_eq(mask2idxs(array([1,2,3])), [1,2,3])"
   ]
  },
  {
   "cell_type": "code",
   "execution_count": 401,
   "metadata": {},
   "outputs": [],
   "source": [
    "#export\n",
    "listable_types = typing.Collection,Generator,map,filter,zip"
   ]
  },
  {
   "cell_type": "code",
   "execution_count": 402,
   "metadata": {},
   "outputs": [],
   "source": [
    "#export\n",
    "class CollBase:\n",
    "    \"Base class for composing a list of `items`\"\n",
    "    def __init__(self, items): self.items = items\n",
    "    def __len__(self): return len(self.items)\n",
    "    def __getitem__(self, k): return self.items[list(k) if isinstance(k,CollBase) else k]\n",
    "    def __setitem__(self, k, v): self.items[list(k) if isinstance(k,CollBase) else k] = v\n",
    "    def __delitem__(self, i): del(self.items[i])\n",
    "    def __repr__(self): return self.items.__repr__()\n",
    "    def __iter__(self): return self.items.__iter__()"
   ]
  },
  {
   "cell_type": "code",
   "execution_count": 403,
   "metadata": {},
   "outputs": [],
   "source": [
    "#export\n",
    "def cycle(o):\n",
    "    \"Like `itertools.cycle` except creates list of `None`s if `o` is empty\"\n",
    "    o = _listify(o)\n",
    "    return itertools.cycle(o) if o is not None and len(o) > 0 else itertools.cycle([None])"
   ]
  },
  {
   "cell_type": "code",
   "execution_count": 404,
   "metadata": {},
   "outputs": [],
   "source": [
    "test_eq(itertools.islice(cycle([1,2,3]),5), [1,2,3,1,2])\n",
    "test_eq(itertools.islice(cycle([]),3), [None]*3)\n",
    "test_eq(itertools.islice(cycle(None),3), [None]*3)\n",
    "test_eq(itertools.islice(cycle(1),3), [1,1,1])"
   ]
  },
  {
   "cell_type": "code",
   "execution_count": 405,
   "metadata": {},
   "outputs": [],
   "source": [
    "#export\n",
    "def zip_cycle(x, *args):\n",
    "    \"Like `itertools.zip_longest` but `cycle`s through elements of all but first argument\"\n",
    "    return zip(x, *map(cycle,args))"
   ]
  },
  {
   "cell_type": "code",
   "execution_count": 406,
   "metadata": {},
   "outputs": [],
   "source": [
    "test_eq(zip_cycle([1,2,3,4],list('abc')), [(1, 'a'), (2, 'b'), (3, 'c'), (4, 'a')])"
   ]
  },
  {
   "cell_type": "code",
   "execution_count": 407,
   "metadata": {},
   "outputs": [],
   "source": [
    "#export\n",
    "def is_indexer(idx):\n",
    "    \"Test whether `idx` will index a single item in a list\"\n",
    "    return isinstance(idx,int) or not getattr(idx,'ndim',1)"
   ]
  },
  {
   "cell_type": "code",
   "execution_count": 408,
   "metadata": {},
   "outputs": [],
   "source": [
    "#export\n",
    "def negate_func(f):\n",
    "    \"Create new function that negates result of `f`\"\n",
    "    def _f(*args, **kwargs): return not f(*args, **kwargs)\n",
    "    return _f"
   ]
  },
  {
   "cell_type": "code",
   "execution_count": 409,
   "metadata": {},
   "outputs": [],
   "source": [
    "def f(a): return a>0\n",
    "test_eq(f(1),True)\n",
    "test_eq(negate_func(f)(1),False)\n",
    "test_eq(negate_func(f)(a=-1),True)"
   ]
  },
  {
   "cell_type": "code",
   "execution_count": 410,
   "metadata": {},
   "outputs": [],
   "source": [
    "#export\n",
    "class L(CollBase):\n",
    "    \"Behaves like a list of `items` but can also index with list of indices or masks\"\n",
    "    _default='items'\n",
    "    def __init__(self, items=None, *rest, use_list=False, match=None):\n",
    "        if rest: items = (items,)+rest\n",
    "        if items is None: items = []\n",
    "        if (use_list is not None) or not _is_array(items):\n",
    "            items = list(items) if use_list else _listify(items)\n",
    "        if match is not None:\n",
    "            if is_coll(match): match = len(match)\n",
    "            if len(items)==1: items = items*match\n",
    "            else: assert len(items)==match, 'Match length mismatch'\n",
    "        super().__init__(items)\n",
    "\n",
    "    @property\n",
    "    def _xtra(self): return None\n",
    "    def _new(self, items, *args, **kwargs): return type(self)(items, *args, use_list=None, **kwargs)\n",
    "    def __getitem__(self, idx): return self._get(idx) if is_indexer(idx) else L(self._get(idx), use_list=None)\n",
    "    def copy(self): return self._new(self.items.copy())\n",
    "\n",
    "    def _get(self, i):\n",
    "        if is_indexer(i) or isinstance(i,slice): return getattr(self.items,'iloc',self.items)[i]\n",
    "        i = mask2idxs(i)\n",
    "        return (self.items.iloc[list(i)] if hasattr(self.items,'iloc')\n",
    "                else self.items.__array__()[(i,)] if hasattr(self.items,'__array__')\n",
    "                else [self.items[i_] for i_ in i])\n",
    "\n",
    "    def __setitem__(self, idx, o):\n",
    "        \"Set `idx` (can be list of indices, or mask, or int) items to `o` (which is broadcast if not iterable)\"\n",
    "        if isinstance(idx, int): self.items[idx] = o\n",
    "        else:\n",
    "            idx = idx if isinstance(idx,L) else _listify(idx)\n",
    "            if not is_iter(o): o = [o]*len(idx)\n",
    "            for i,o_ in zip(idx,o): self.items[i] = o_\n",
    "\n",
    "    def __iter__(self): return iter(self.items.itertuples() if hasattr(self.items,'iloc') else self.items)\n",
    "    def __contains__(self,b): return b in self.items\n",
    "    def __reversed__(self): return self._new(reversed(self.items))\n",
    "    def __invert__(self): return self._new(not i for i in self)\n",
    "    def __eq__(self,b): return False if isinstance(b, (str,dict,set)) else all_equal(b,self)\n",
    "    def __repr__(self): return repr(self.items) if _is_array(self.items) else coll_repr(self)\n",
    "    def __mul__ (a,b): return a._new(a.items*b)\n",
    "    def __add__ (a,b): return a._new(a.items+_listify(b))\n",
    "    def __radd__(a,b): return a._new(b)+a\n",
    "    def __addi__(a,b):\n",
    "        a.items += list(b)\n",
    "        return a\n",
    "\n",
    "    def sorted(self, key=None, reverse=False):\n",
    "        if isinstance(key,str):   k=lambda o:getattr(o,key,0)\n",
    "        elif isinstance(key,int): k=itemgetter(key)\n",
    "        else: k=key\n",
    "        return self._new(sorted(self.items, key=k, reverse=reverse))\n",
    "\n",
    "    @classmethod\n",
    "    def split(cls, s, sep=None, maxsplit=-1): return cls(s.split(sep,maxsplit))\n",
    "\n",
    "    @classmethod\n",
    "    def range(cls, a, b=None, step=None):\n",
    "        if is_coll(a): a = len(a)\n",
    "        return cls(range(a,b,step) if step is not None else range(a,b) if b is not None else range(a))\n",
    "\n",
    "    def map(self, f, *args, **kwargs):\n",
    "        g = (bind(f,*args,**kwargs) if callable(f)\n",
    "             else f.format if isinstance(f,str)\n",
    "             else f.__getitem__)\n",
    "        return self._new(map(g, self))\n",
    "\n",
    "    def filter(self, f, negate=False, **kwargs):\n",
    "        if kwargs: f = partial(f,**kwargs)\n",
    "        if negate: f = negate_func(f)\n",
    "        return self._new(filter(f, self))\n",
    "\n",
    "    def argwhere(self, f, negate=False, **kwargs):\n",
    "        if kwargs: f = partial(f,**kwargs)\n",
    "        if negate: f = negate_func(f)\n",
    "        return self._new(i for i,o in enumerate(self) if f(o))\n",
    "\n",
    "    def unique(self): return L(dict.fromkeys(self).keys())\n",
    "    def enumerate(self): return L(enumerate(self))\n",
    "    def val2idx(self): return {v:k for k,v in self.enumerate()}\n",
    "    def itemgot(self, *idxs):\n",
    "        x = self\n",
    "        for idx in idxs: x = x.map(itemgetter(idx))\n",
    "        return x\n",
    "\n",
    "    def attrgot(self, k, default=None): return self.map(lambda o:getattr(o,k,default))\n",
    "    def cycle(self): return cycle(self)\n",
    "    def map_dict(self, f=noop, *args, **kwargs): return {k:f(k, *args,**kwargs) for k in self}\n",
    "    def starmap(self, f, *args, **kwargs): return self._new(itertools.starmap(partial(f,*args,**kwargs), self))\n",
    "    def zip(self, cycled=False): return self._new((zip_cycle if cycled else zip)(*self))\n",
    "    def zipwith(self, *rest, cycled=False): return self._new([self, *rest]).zip(cycled=cycled)\n",
    "    def map_zip(self, f, *args, cycled=False, **kwargs): return self.zip(cycled=cycled).starmap(f, *args, **kwargs)\n",
    "    def map_zipwith(self, f, *rest, cycled=False, **kwargs): return self.zipwith(*rest, cycled=cycled).starmap(f, **kwargs)\n",
    "    def concat(self): return self._new(itertools.chain.from_iterable(self.map(L)))\n",
    "    def shuffle(self):\n",
    "        it = copy(self.items)\n",
    "        random.shuffle(it)\n",
    "        return self._new(it)\n",
    "\n",
    "    def append(self,o): return self.items.append(o)\n",
    "    def remove(self,o): return self.items.remove(o)\n",
    "    def count (self,o): return self.items.count(o)\n",
    "    def reverse(self ): return self.items.reverse()\n",
    "    def pop(self,o=-1): return self.items.pop(o)\n",
    "    def clear(self   ): return self.items.clear()\n",
    "    def index(self, value, start=0, stop=sys.maxsize): return self.items.index(value, start, stop)\n",
    "    def sort(self, key=None, reverse=False): return self.items.sort(key=key, reverse=reverse)\n",
    "    def reduce(self, f, initial=None): return reduce(f, self) if initial is None else reduce(f, self, initial)\n",
    "    def sum(self): return self.reduce(operator.add)\n",
    "    def product(self): return self.reduce(operator.mul)"
   ]
  },
  {
   "cell_type": "code",
   "execution_count": 411,
   "metadata": {},
   "outputs": [
    {
     "data": {
      "text/plain": [
       "<Signature (items=None, *rest, use_list=False, match=None)>"
      ]
     },
     "execution_count": 411,
     "metadata": {},
     "output_type": "execute_result"
    }
   ],
   "source": [
    "inspect.signature(L)"
   ]
  },
  {
   "cell_type": "code",
   "execution_count": null,
   "metadata": {},
   "outputs": [],
   "source": [
    "#export\n",
    "_docs = {o:\"Passthru to `list` method\" for o in\n",
    "         'append count remove reverse sort pop clear index'.split()}\n",
    "add_docs(L,\n",
    "         __getitem__=\"Retrieve `idx` (can be list of indices, or mask, or int) items\",\n",
    "         range=\"Same as `range`, but returns an `L`. Can pass a collection for `a`, to use `len(a)`\",\n",
    "         split=\"Same as `str.split`, but returns an `L`\",\n",
    "         copy=\"Same as `list.copy`, but returns an `L`\",\n",
    "         sorted=\"New `L` sorted by `key`. If key is str then use `attrgetter`. If key is int then use `itemgetter`\",\n",
    "         unique=\"Unique items, in stable order\",\n",
    "         val2idx=\"Dict from value to index\",\n",
    "         filter=\"Create new `L` filtered by predicate `f`, passing `args` and `kwargs` to `f`\",\n",
    "         argwhere=\"Like `filter`, but return indices for matching items\",\n",
    "         map=\"Create new `L` with `f` applied to all `items`, passing `args` and `kwargs` to `f`\",\n",
    "         map_dict=\"Like `map`, but creates a dict from `items` to function results\",\n",
    "         starmap=\"Like `map`, but use `itertools.starmap`\",\n",
    "         itemgot=\"Create new `L` with item `idx` of all `items`\",\n",
    "         attrgot=\"Create new `L` with attr `k` of all `items`\",\n",
    "         cycle=\"Same as `itertools.cycle`\",\n",
    "         enumerate=\"Same as `enumerate`\",\n",
    "         zip=\"Create new `L` with `zip(*items)`\",\n",
    "         zipwith=\"Create new `L` with `self` zip with each of `*rest`\",\n",
    "         map_zip=\"Combine `zip` and `starmap`\",\n",
    "         map_zipwith=\"Combine `zipwith` and `starmap`\",\n",
    "         concat=\"Concatenate all elements of list\",\n",
    "         shuffle=\"Same as `random.shuffle`, but not inplace\",\n",
    "         reduce=\"Wrapper for `functools.reduce`\",\n",
    "         sum=\"Sum of the items\",\n",
    "         product=\"Product of the items\",\n",
    "         **_docs)"
   ]
  },
  {
   "cell_type": "code",
   "execution_count": 413,
   "metadata": {},
   "outputs": [],
   "source": [
    "#export\n",
    "Sequence.register(L);"
   ]
  },
  {
   "cell_type": "markdown",
   "metadata": {},
   "source": [
    "You can create an `L` from an existing iterable (e.g. a list, range, etc) and access or modify it with an int list/tuple index, mask, int, or slice. All `list` methods can also be used with `L`."
   ]
  },
  {
   "cell_type": "code",
   "execution_count": 412,
   "metadata": {},
   "outputs": [
    {
     "data": {
      "text/plain": [
       "(#12) [11,10,9,'j',7,'k',5,4,3,2...]"
      ]
     },
     "execution_count": 412,
     "metadata": {},
     "output_type": "execute_result"
    }
   ],
   "source": [
    "t = L(range(12))\n",
    "test_eq(t, list(range(12)))\n",
    "test_ne(t, list(range(11)))\n",
    "t.reverse()\n",
    "test_eq(t[0], 11)\n",
    "t[3] = \"h\"\n",
    "test_eq(t[3], \"h\")\n",
    "t[3,5] = (\"j\",\"k\")\n",
    "test_eq(t[3,5], [\"j\",\"k\"])\n",
    "test_eq(t, L(t))\n",
    "test_eq(L(L(1,2),[3,4]), ([1,2],[3,4]))\n",
    "t"
   ]
  },
  {
   "cell_type": "code",
   "execution_count": null,
   "metadata": {},
   "outputs": [],
   "source": []
  }
 ],
 "metadata": {
  "jupytext": {
   "split_at_heading": true
  },
  "kernelspec": {
   "display_name": "Python 3",
   "language": "python",
   "name": "python3"
  },
  "language_info": {
   "codemirror_mode": {
    "name": "ipython",
    "version": 3
   },
   "file_extension": ".py",
   "mimetype": "text/x-python",
   "name": "python",
   "nbconvert_exporter": "python",
   "pygments_lexer": "ipython3",
   "version": "3.6.9"
  }
 },
 "nbformat": 4,
 "nbformat_minor": 4
}
